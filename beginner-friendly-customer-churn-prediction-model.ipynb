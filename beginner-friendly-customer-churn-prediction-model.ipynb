{
 "cells": [
  {
   "cell_type": "markdown",
   "id": "a54d94a8",
   "metadata": {
    "papermill": {
     "duration": 0.015327,
     "end_time": "2025-02-04T13:56:25.309254",
     "exception": false,
     "start_time": "2025-02-04T13:56:25.293927",
     "status": "completed"
    },
    "tags": []
   },
   "source": [
    "# 1. Introduction\n",
    "**Dataset**: The dataset used for this project is the \"Churn Modelling\" dataset, which contains customer information from a bank. The target variable is Exited, indicating whether a customer has left the bank (1) or stayed (0).\n",
    "\n",
    "**Objective**: Build a predictive model to classify customers based on their likelihood of churning and achieve the highest possible accuracy."
   ]
  },
  {
   "cell_type": "code",
   "execution_count": 1,
   "id": "8d77ce56",
   "metadata": {
    "_cell_guid": "b1076dfc-b9ad-4769-8c92-a6c4dae69d19",
    "_uuid": "8f2839f25d086af736a60e9eeb907d3b93b6e0e5",
    "execution": {
     "iopub.execute_input": "2025-02-04T13:56:25.339477Z",
     "iopub.status.busy": "2025-02-04T13:56:25.339046Z",
     "iopub.status.idle": "2025-02-04T13:56:26.488340Z",
     "shell.execute_reply": "2025-02-04T13:56:26.486781Z"
    },
    "papermill": {
     "duration": 1.166683,
     "end_time": "2025-02-04T13:56:26.490571",
     "exception": false,
     "start_time": "2025-02-04T13:56:25.323888",
     "status": "completed"
    },
    "tags": []
   },
   "outputs": [
    {
     "name": "stdout",
     "output_type": "stream",
     "text": [
      "/kaggle/input/bank-customer-churn-prediction-dataset/Churn_Modelling.csv\n"
     ]
    }
   ],
   "source": [
    "# This Python 3 environment comes with many helpful analytics libraries installed\n",
    "# It is defined by the kaggle/python Docker image: https://github.com/kaggle/docker-python\n",
    "# For example, here's several helpful packages to load\n",
    "\n",
    "import numpy as np # linear algebra\n",
    "import pandas as pd # data processing, CSV file I/O (e.g. pd.read_csv)\n",
    "\n",
    "# Input data files are available in the read-only \"../input/\" directory\n",
    "# For example, running this (by clicking run or pressing Shift+Enter) will list all files under the input directory\n",
    "\n",
    "import os\n",
    "for dirname, _, filenames in os.walk('/kaggle/input'):\n",
    "    for filename in filenames:\n",
    "        print(os.path.join(dirname, filename))\n",
    "\n",
    "# You can write up to 20GB to the current directory (/kaggle/working/) that gets preserved as output when you create a version using \"Save & Run All\" \n",
    "# You can also write temporary files to /kaggle/temp/, but they won't be saved outside of the current session"
   ]
  },
  {
   "cell_type": "markdown",
   "id": "0c950e79",
   "metadata": {
    "papermill": {
     "duration": 0.013648,
     "end_time": "2025-02-04T13:56:26.518501",
     "exception": false,
     "start_time": "2025-02-04T13:56:26.504853",
     "status": "completed"
    },
    "tags": []
   },
   "source": [
    "# 2. Importing Libraries\n",
    "\n",
    "* Imported NumPy and Pandas for data handling and preprocessing.\n",
    "* Visualization libraries include Matplotlib, Seaborn (for static visualizations), and Plotly (for interactive visuals). "
   ]
  },
  {
   "cell_type": "code",
   "execution_count": 2,
   "id": "f30cf6ad",
   "metadata": {
    "execution": {
     "iopub.execute_input": "2025-02-04T13:56:26.548807Z",
     "iopub.status.busy": "2025-02-04T13:56:26.548245Z",
     "iopub.status.idle": "2025-02-04T13:56:29.532901Z",
     "shell.execute_reply": "2025-02-04T13:56:29.531647Z"
    },
    "papermill": {
     "duration": 3.002437,
     "end_time": "2025-02-04T13:56:29.534986",
     "exception": false,
     "start_time": "2025-02-04T13:56:26.532549",
     "status": "completed"
    },
    "tags": []
   },
   "outputs": [],
   "source": [
    "#Importing libraries\n",
    "\n",
    "#Basic libraries\n",
    "import numpy as np\n",
    "import pandas as pd\n",
    "\n",
    "#for visualisation\n",
    "import matplotlib.pyplot as plt\n",
    "import seaborn as sns\n",
    "import plotly.express as px"
   ]
  },
  {
   "cell_type": "markdown",
   "id": "35c43aa0",
   "metadata": {
    "papermill": {
     "duration": 0.014168,
     "end_time": "2025-02-04T13:56:29.563993",
     "exception": false,
     "start_time": "2025-02-04T13:56:29.549825",
     "status": "completed"
    },
    "tags": []
   },
   "source": [
    "# 3. Loading the Dataset"
   ]
  },
  {
   "cell_type": "code",
   "execution_count": 3,
   "id": "28079144",
   "metadata": {
    "execution": {
     "iopub.execute_input": "2025-02-04T13:56:29.594614Z",
     "iopub.status.busy": "2025-02-04T13:56:29.593788Z",
     "iopub.status.idle": "2025-02-04T13:56:29.642049Z",
     "shell.execute_reply": "2025-02-04T13:56:29.640959Z"
    },
    "papermill": {
     "duration": 0.065689,
     "end_time": "2025-02-04T13:56:29.644002",
     "exception": false,
     "start_time": "2025-02-04T13:56:29.578313",
     "status": "completed"
    },
    "tags": []
   },
   "outputs": [
    {
     "data": {
      "text/plain": [
       "(10000, 14)"
      ]
     },
     "execution_count": 3,
     "metadata": {},
     "output_type": "execute_result"
    }
   ],
   "source": [
    "#Loading the dataset\n",
    "customer_churn_file_path='/kaggle/input/bank-customer-churn-prediction-dataset/Churn_Modelling.csv'\n",
    "churn_data=pd.read_csv(customer_churn_file_path)\n",
    "churn_data.shape"
   ]
  },
  {
   "cell_type": "markdown",
   "id": "2b85b61e",
   "metadata": {
    "papermill": {
     "duration": 0.013529,
     "end_time": "2025-02-04T13:56:29.672668",
     "exception": false,
     "start_time": "2025-02-04T13:56:29.659139",
     "status": "completed"
    },
    "tags": []
   },
   "source": [
    "   * The dataset has 10,000 rows and 14 columns.\n",
    "   * Each row represents an individual customer with features such as CreditScore, Geography, Gender, Age, etc., and the target column Exited. "
   ]
  },
  {
   "cell_type": "markdown",
   "id": "230191d1",
   "metadata": {
    "papermill": {
     "duration": 0.013432,
     "end_time": "2025-02-04T13:56:29.700950",
     "exception": false,
     "start_time": "2025-02-04T13:56:29.687518",
     "status": "completed"
    },
    "tags": []
   },
   "source": [
    "# 4.1 Previewing the Data\n",
    "* The .head() method shows the first 5 rows of the dataset, giving us a quick look at the structure of the data.\n",
    "* The .tail() method shows the last 5 rows, ensuring there are no unexpected formatting or structural issues."
   ]
  },
  {
   "cell_type": "code",
   "execution_count": 4,
   "id": "22d67f7b",
   "metadata": {
    "execution": {
     "iopub.execute_input": "2025-02-04T13:56:29.729775Z",
     "iopub.status.busy": "2025-02-04T13:56:29.729388Z",
     "iopub.status.idle": "2025-02-04T13:56:29.757635Z",
     "shell.execute_reply": "2025-02-04T13:56:29.756400Z"
    },
    "papermill": {
     "duration": 0.044929,
     "end_time": "2025-02-04T13:56:29.759636",
     "exception": false,
     "start_time": "2025-02-04T13:56:29.714707",
     "status": "completed"
    },
    "tags": []
   },
   "outputs": [
    {
     "data": {
      "text/html": [
       "<div>\n",
       "<style scoped>\n",
       "    .dataframe tbody tr th:only-of-type {\n",
       "        vertical-align: middle;\n",
       "    }\n",
       "\n",
       "    .dataframe tbody tr th {\n",
       "        vertical-align: top;\n",
       "    }\n",
       "\n",
       "    .dataframe thead th {\n",
       "        text-align: right;\n",
       "    }\n",
       "</style>\n",
       "<table border=\"1\" class=\"dataframe\">\n",
       "  <thead>\n",
       "    <tr style=\"text-align: right;\">\n",
       "      <th></th>\n",
       "      <th>RowNumber</th>\n",
       "      <th>CustomerId</th>\n",
       "      <th>Surname</th>\n",
       "      <th>CreditScore</th>\n",
       "      <th>Geography</th>\n",
       "      <th>Gender</th>\n",
       "      <th>Age</th>\n",
       "      <th>Tenure</th>\n",
       "      <th>Balance</th>\n",
       "      <th>NumOfProducts</th>\n",
       "      <th>HasCrCard</th>\n",
       "      <th>IsActiveMember</th>\n",
       "      <th>EstimatedSalary</th>\n",
       "      <th>Exited</th>\n",
       "    </tr>\n",
       "  </thead>\n",
       "  <tbody>\n",
       "    <tr>\n",
       "      <th>0</th>\n",
       "      <td>1</td>\n",
       "      <td>15634602</td>\n",
       "      <td>Hargrave</td>\n",
       "      <td>619</td>\n",
       "      <td>France</td>\n",
       "      <td>Female</td>\n",
       "      <td>42</td>\n",
       "      <td>2</td>\n",
       "      <td>0.00</td>\n",
       "      <td>1</td>\n",
       "      <td>1</td>\n",
       "      <td>1</td>\n",
       "      <td>101348.88</td>\n",
       "      <td>1</td>\n",
       "    </tr>\n",
       "    <tr>\n",
       "      <th>1</th>\n",
       "      <td>2</td>\n",
       "      <td>15647311</td>\n",
       "      <td>Hill</td>\n",
       "      <td>608</td>\n",
       "      <td>Spain</td>\n",
       "      <td>Female</td>\n",
       "      <td>41</td>\n",
       "      <td>1</td>\n",
       "      <td>83807.86</td>\n",
       "      <td>1</td>\n",
       "      <td>0</td>\n",
       "      <td>1</td>\n",
       "      <td>112542.58</td>\n",
       "      <td>0</td>\n",
       "    </tr>\n",
       "    <tr>\n",
       "      <th>2</th>\n",
       "      <td>3</td>\n",
       "      <td>15619304</td>\n",
       "      <td>Onio</td>\n",
       "      <td>502</td>\n",
       "      <td>France</td>\n",
       "      <td>Female</td>\n",
       "      <td>42</td>\n",
       "      <td>8</td>\n",
       "      <td>159660.80</td>\n",
       "      <td>3</td>\n",
       "      <td>1</td>\n",
       "      <td>0</td>\n",
       "      <td>113931.57</td>\n",
       "      <td>1</td>\n",
       "    </tr>\n",
       "    <tr>\n",
       "      <th>3</th>\n",
       "      <td>4</td>\n",
       "      <td>15701354</td>\n",
       "      <td>Boni</td>\n",
       "      <td>699</td>\n",
       "      <td>France</td>\n",
       "      <td>Female</td>\n",
       "      <td>39</td>\n",
       "      <td>1</td>\n",
       "      <td>0.00</td>\n",
       "      <td>2</td>\n",
       "      <td>0</td>\n",
       "      <td>0</td>\n",
       "      <td>93826.63</td>\n",
       "      <td>0</td>\n",
       "    </tr>\n",
       "    <tr>\n",
       "      <th>4</th>\n",
       "      <td>5</td>\n",
       "      <td>15737888</td>\n",
       "      <td>Mitchell</td>\n",
       "      <td>850</td>\n",
       "      <td>Spain</td>\n",
       "      <td>Female</td>\n",
       "      <td>43</td>\n",
       "      <td>2</td>\n",
       "      <td>125510.82</td>\n",
       "      <td>1</td>\n",
       "      <td>1</td>\n",
       "      <td>1</td>\n",
       "      <td>79084.10</td>\n",
       "      <td>0</td>\n",
       "    </tr>\n",
       "  </tbody>\n",
       "</table>\n",
       "</div>"
      ],
      "text/plain": [
       "   RowNumber  CustomerId   Surname  CreditScore Geography  Gender  Age  \\\n",
       "0          1    15634602  Hargrave          619    France  Female   42   \n",
       "1          2    15647311      Hill          608     Spain  Female   41   \n",
       "2          3    15619304      Onio          502    France  Female   42   \n",
       "3          4    15701354      Boni          699    France  Female   39   \n",
       "4          5    15737888  Mitchell          850     Spain  Female   43   \n",
       "\n",
       "   Tenure    Balance  NumOfProducts  HasCrCard  IsActiveMember  \\\n",
       "0       2       0.00              1          1               1   \n",
       "1       1   83807.86              1          0               1   \n",
       "2       8  159660.80              3          1               0   \n",
       "3       1       0.00              2          0               0   \n",
       "4       2  125510.82              1          1               1   \n",
       "\n",
       "   EstimatedSalary  Exited  \n",
       "0        101348.88       1  \n",
       "1        112542.58       0  \n",
       "2        113931.57       1  \n",
       "3         93826.63       0  \n",
       "4         79084.10       0  "
      ]
     },
     "execution_count": 4,
     "metadata": {},
     "output_type": "execute_result"
    }
   ],
   "source": [
    "churn_data.head()"
   ]
  },
  {
   "cell_type": "code",
   "execution_count": 5,
   "id": "f7b8a464",
   "metadata": {
    "execution": {
     "iopub.execute_input": "2025-02-04T13:56:29.789761Z",
     "iopub.status.busy": "2025-02-04T13:56:29.789319Z",
     "iopub.status.idle": "2025-02-04T13:56:29.804591Z",
     "shell.execute_reply": "2025-02-04T13:56:29.803443Z"
    },
    "papermill": {
     "duration": 0.031974,
     "end_time": "2025-02-04T13:56:29.806269",
     "exception": false,
     "start_time": "2025-02-04T13:56:29.774295",
     "status": "completed"
    },
    "tags": []
   },
   "outputs": [
    {
     "data": {
      "text/html": [
       "<div>\n",
       "<style scoped>\n",
       "    .dataframe tbody tr th:only-of-type {\n",
       "        vertical-align: middle;\n",
       "    }\n",
       "\n",
       "    .dataframe tbody tr th {\n",
       "        vertical-align: top;\n",
       "    }\n",
       "\n",
       "    .dataframe thead th {\n",
       "        text-align: right;\n",
       "    }\n",
       "</style>\n",
       "<table border=\"1\" class=\"dataframe\">\n",
       "  <thead>\n",
       "    <tr style=\"text-align: right;\">\n",
       "      <th></th>\n",
       "      <th>RowNumber</th>\n",
       "      <th>CustomerId</th>\n",
       "      <th>Surname</th>\n",
       "      <th>CreditScore</th>\n",
       "      <th>Geography</th>\n",
       "      <th>Gender</th>\n",
       "      <th>Age</th>\n",
       "      <th>Tenure</th>\n",
       "      <th>Balance</th>\n",
       "      <th>NumOfProducts</th>\n",
       "      <th>HasCrCard</th>\n",
       "      <th>IsActiveMember</th>\n",
       "      <th>EstimatedSalary</th>\n",
       "      <th>Exited</th>\n",
       "    </tr>\n",
       "  </thead>\n",
       "  <tbody>\n",
       "    <tr>\n",
       "      <th>9995</th>\n",
       "      <td>9996</td>\n",
       "      <td>15606229</td>\n",
       "      <td>Obijiaku</td>\n",
       "      <td>771</td>\n",
       "      <td>France</td>\n",
       "      <td>Male</td>\n",
       "      <td>39</td>\n",
       "      <td>5</td>\n",
       "      <td>0.00</td>\n",
       "      <td>2</td>\n",
       "      <td>1</td>\n",
       "      <td>0</td>\n",
       "      <td>96270.64</td>\n",
       "      <td>0</td>\n",
       "    </tr>\n",
       "    <tr>\n",
       "      <th>9996</th>\n",
       "      <td>9997</td>\n",
       "      <td>15569892</td>\n",
       "      <td>Johnstone</td>\n",
       "      <td>516</td>\n",
       "      <td>France</td>\n",
       "      <td>Male</td>\n",
       "      <td>35</td>\n",
       "      <td>10</td>\n",
       "      <td>57369.61</td>\n",
       "      <td>1</td>\n",
       "      <td>1</td>\n",
       "      <td>1</td>\n",
       "      <td>101699.77</td>\n",
       "      <td>0</td>\n",
       "    </tr>\n",
       "    <tr>\n",
       "      <th>9997</th>\n",
       "      <td>9998</td>\n",
       "      <td>15584532</td>\n",
       "      <td>Liu</td>\n",
       "      <td>709</td>\n",
       "      <td>France</td>\n",
       "      <td>Female</td>\n",
       "      <td>36</td>\n",
       "      <td>7</td>\n",
       "      <td>0.00</td>\n",
       "      <td>1</td>\n",
       "      <td>0</td>\n",
       "      <td>1</td>\n",
       "      <td>42085.58</td>\n",
       "      <td>1</td>\n",
       "    </tr>\n",
       "    <tr>\n",
       "      <th>9998</th>\n",
       "      <td>9999</td>\n",
       "      <td>15682355</td>\n",
       "      <td>Sabbatini</td>\n",
       "      <td>772</td>\n",
       "      <td>Germany</td>\n",
       "      <td>Male</td>\n",
       "      <td>42</td>\n",
       "      <td>3</td>\n",
       "      <td>75075.31</td>\n",
       "      <td>2</td>\n",
       "      <td>1</td>\n",
       "      <td>0</td>\n",
       "      <td>92888.52</td>\n",
       "      <td>1</td>\n",
       "    </tr>\n",
       "    <tr>\n",
       "      <th>9999</th>\n",
       "      <td>10000</td>\n",
       "      <td>15628319</td>\n",
       "      <td>Walker</td>\n",
       "      <td>792</td>\n",
       "      <td>France</td>\n",
       "      <td>Female</td>\n",
       "      <td>28</td>\n",
       "      <td>4</td>\n",
       "      <td>130142.79</td>\n",
       "      <td>1</td>\n",
       "      <td>1</td>\n",
       "      <td>0</td>\n",
       "      <td>38190.78</td>\n",
       "      <td>0</td>\n",
       "    </tr>\n",
       "  </tbody>\n",
       "</table>\n",
       "</div>"
      ],
      "text/plain": [
       "      RowNumber  CustomerId    Surname  CreditScore Geography  Gender  Age  \\\n",
       "9995       9996    15606229   Obijiaku          771    France    Male   39   \n",
       "9996       9997    15569892  Johnstone          516    France    Male   35   \n",
       "9997       9998    15584532        Liu          709    France  Female   36   \n",
       "9998       9999    15682355  Sabbatini          772   Germany    Male   42   \n",
       "9999      10000    15628319     Walker          792    France  Female   28   \n",
       "\n",
       "      Tenure    Balance  NumOfProducts  HasCrCard  IsActiveMember  \\\n",
       "9995       5       0.00              2          1               0   \n",
       "9996      10   57369.61              1          1               1   \n",
       "9997       7       0.00              1          0               1   \n",
       "9998       3   75075.31              2          1               0   \n",
       "9999       4  130142.79              1          1               0   \n",
       "\n",
       "      EstimatedSalary  Exited  \n",
       "9995         96270.64       0  \n",
       "9996        101699.77       0  \n",
       "9997         42085.58       1  \n",
       "9998         92888.52       1  \n",
       "9999         38190.78       0  "
      ]
     },
     "execution_count": 5,
     "metadata": {},
     "output_type": "execute_result"
    }
   ],
   "source": [
    "churn_data.tail()"
   ]
  },
  {
   "cell_type": "markdown",
   "id": "67aa6ba8",
   "metadata": {
    "papermill": {
     "duration": 0.015056,
     "end_time": "2025-02-04T13:56:29.836552",
     "exception": false,
     "start_time": "2025-02-04T13:56:29.821496",
     "status": "completed"
    },
    "tags": []
   },
   "source": [
    "# 4.2 Dataset Information"
   ]
  },
  {
   "cell_type": "code",
   "execution_count": 6,
   "id": "b2f414fb",
   "metadata": {
    "execution": {
     "iopub.execute_input": "2025-02-04T13:56:29.878722Z",
     "iopub.status.busy": "2025-02-04T13:56:29.878118Z",
     "iopub.status.idle": "2025-02-04T13:56:29.915999Z",
     "shell.execute_reply": "2025-02-04T13:56:29.913919Z"
    },
    "papermill": {
     "duration": 0.06269,
     "end_time": "2025-02-04T13:56:29.918064",
     "exception": false,
     "start_time": "2025-02-04T13:56:29.855374",
     "status": "completed"
    },
    "tags": []
   },
   "outputs": [
    {
     "name": "stdout",
     "output_type": "stream",
     "text": [
      "<class 'pandas.core.frame.DataFrame'>\n",
      "RangeIndex: 10000 entries, 0 to 9999\n",
      "Data columns (total 14 columns):\n",
      " #   Column           Non-Null Count  Dtype  \n",
      "---  ------           --------------  -----  \n",
      " 0   RowNumber        10000 non-null  int64  \n",
      " 1   CustomerId       10000 non-null  int64  \n",
      " 2   Surname          10000 non-null  object \n",
      " 3   CreditScore      10000 non-null  int64  \n",
      " 4   Geography        10000 non-null  object \n",
      " 5   Gender           10000 non-null  object \n",
      " 6   Age              10000 non-null  int64  \n",
      " 7   Tenure           10000 non-null  int64  \n",
      " 8   Balance          10000 non-null  float64\n",
      " 9   NumOfProducts    10000 non-null  int64  \n",
      " 10  HasCrCard        10000 non-null  int64  \n",
      " 11  IsActiveMember   10000 non-null  int64  \n",
      " 12  EstimatedSalary  10000 non-null  float64\n",
      " 13  Exited           10000 non-null  int64  \n",
      "dtypes: float64(2), int64(9), object(3)\n",
      "memory usage: 1.1+ MB\n"
     ]
    }
   ],
   "source": [
    "churn_data.info()"
   ]
  },
  {
   "cell_type": "markdown",
   "id": "1c7236ca",
   "metadata": {
    "papermill": {
     "duration": 0.014126,
     "end_time": "2025-02-04T13:56:29.948861",
     "exception": false,
     "start_time": "2025-02-04T13:56:29.934735",
     "status": "completed"
    },
    "tags": []
   },
   "source": [
    "* The dataset contains 14 columns and 10,000 rows.\n",
    "* Columns such as RowNumber, CustomerId, and Surname are identifiers and likely not relevant for prediction.\n",
    "* There are no missing values, as all columns show a complete count of 10,000 non-null entries.\n",
    "* The dataset includes both numerical (e.g., CreditScore, Balance) and categorical (e.g., Geography, Gender) features."
   ]
  },
  {
   "cell_type": "code",
   "execution_count": 7,
   "id": "96e5777d",
   "metadata": {
    "execution": {
     "iopub.execute_input": "2025-02-04T13:56:29.979566Z",
     "iopub.status.busy": "2025-02-04T13:56:29.979137Z",
     "iopub.status.idle": "2025-02-04T13:56:29.989980Z",
     "shell.execute_reply": "2025-02-04T13:56:29.988829Z"
    },
    "papermill": {
     "duration": 0.028003,
     "end_time": "2025-02-04T13:56:29.991777",
     "exception": false,
     "start_time": "2025-02-04T13:56:29.963774",
     "status": "completed"
    },
    "tags": []
   },
   "outputs": [
    {
     "data": {
      "text/plain": [
       "RowNumber          0\n",
       "CustomerId         0\n",
       "Surname            0\n",
       "CreditScore        0\n",
       "Geography          0\n",
       "Gender             0\n",
       "Age                0\n",
       "Tenure             0\n",
       "Balance            0\n",
       "NumOfProducts      0\n",
       "HasCrCard          0\n",
       "IsActiveMember     0\n",
       "EstimatedSalary    0\n",
       "Exited             0\n",
       "dtype: int64"
      ]
     },
     "execution_count": 7,
     "metadata": {},
     "output_type": "execute_result"
    }
   ],
   "source": [
    "churn_data.isnull().sum()"
   ]
  },
  {
   "cell_type": "markdown",
   "id": "e3abb8e5",
   "metadata": {
    "papermill": {
     "duration": 0.025565,
     "end_time": "2025-02-04T13:56:30.038363",
     "exception": false,
     "start_time": "2025-02-04T13:56:30.012798",
     "status": "completed"
    },
    "tags": []
   },
   "source": [
    "NOTE: Confirmation there are no empty cells in the spreadsheet or dataset"
   ]
  },
  {
   "cell_type": "markdown",
   "id": "54615b30",
   "metadata": {
    "papermill": {
     "duration": 0.025436,
     "end_time": "2025-02-04T13:56:30.092101",
     "exception": false,
     "start_time": "2025-02-04T13:56:30.066665",
     "status": "completed"
    },
    "tags": []
   },
   "source": [
    "# 5. Preprocessing the Data\n",
    "\n",
    "**5.1 Dropping Unnecessary Columns**"
   ]
  },
  {
   "cell_type": "code",
   "execution_count": 8,
   "id": "a12a0d4a",
   "metadata": {
    "execution": {
     "iopub.execute_input": "2025-02-04T13:56:30.139631Z",
     "iopub.status.busy": "2025-02-04T13:56:30.139259Z",
     "iopub.status.idle": "2025-02-04T13:56:30.148640Z",
     "shell.execute_reply": "2025-02-04T13:56:30.147320Z"
    },
    "papermill": {
     "duration": 0.04056,
     "end_time": "2025-02-04T13:56:30.151746",
     "exception": false,
     "start_time": "2025-02-04T13:56:30.111186",
     "status": "completed"
    },
    "tags": []
   },
   "outputs": [],
   "source": [
    "df = churn_data.drop(labels = ['RowNumber', 'CustomerId', 'Surname'], axis = 1)"
   ]
  },
  {
   "cell_type": "markdown",
   "id": "5b550663",
   "metadata": {
    "papermill": {
     "duration": 0.018917,
     "end_time": "2025-02-04T13:56:30.188157",
     "exception": false,
     "start_time": "2025-02-04T13:56:30.169240",
     "status": "completed"
    },
    "tags": []
   },
   "source": [
    "The columns RowNumber, CustomerId, and Surname are dropped because they are identifiers and do not contribute to predictive power."
   ]
  },
  {
   "cell_type": "markdown",
   "id": "66df3d09",
   "metadata": {
    "papermill": {
     "duration": 0.014435,
     "end_time": "2025-02-04T13:56:30.219741",
     "exception": false,
     "start_time": "2025-02-04T13:56:30.205306",
     "status": "completed"
    },
    "tags": []
   },
   "source": [
    "**5.2 Identifying Numerical Columns**"
   ]
  },
  {
   "cell_type": "code",
   "execution_count": 9,
   "id": "479c8186",
   "metadata": {
    "execution": {
     "iopub.execute_input": "2025-02-04T13:56:30.250798Z",
     "iopub.status.busy": "2025-02-04T13:56:30.250443Z",
     "iopub.status.idle": "2025-02-04T13:56:30.256945Z",
     "shell.execute_reply": "2025-02-04T13:56:30.255554Z"
    },
    "papermill": {
     "duration": 0.023887,
     "end_time": "2025-02-04T13:56:30.258781",
     "exception": false,
     "start_time": "2025-02-04T13:56:30.234894",
     "status": "completed"
    },
    "tags": []
   },
   "outputs": [
    {
     "name": "stdout",
     "output_type": "stream",
     "text": [
      "Index(['CreditScore', 'Age', 'Tenure', 'Balance', 'NumOfProducts', 'HasCrCard',\n",
      "       'IsActiveMember', 'EstimatedSalary', 'Exited'],\n",
      "      dtype='object')\n"
     ]
    }
   ],
   "source": [
    "numeric_cols = df.select_dtypes(include = 'number').columns\n",
    "print(numeric_cols)"
   ]
  },
  {
   "cell_type": "markdown",
   "id": "3e755bc7",
   "metadata": {
    "papermill": {
     "duration": 0.014264,
     "end_time": "2025-02-04T13:56:30.288417",
     "exception": false,
     "start_time": "2025-02-04T13:56:30.274153",
     "status": "completed"
    },
    "tags": []
   },
   "source": [
    "Extracts all numerical columns for further analysis, ensuring non-numeric columns are handled separately during preprocessing."
   ]
  },
  {
   "cell_type": "markdown",
   "id": "a7c9e7da",
   "metadata": {
    "papermill": {
     "duration": 0.015027,
     "end_time": "2025-02-04T13:56:30.318425",
     "exception": false,
     "start_time": "2025-02-04T13:56:30.303398",
     "status": "completed"
    },
    "tags": []
   },
   "source": [
    "**5.3 Correlation Analysis**\n",
    "Heatmap Visualization"
   ]
  },
  {
   "cell_type": "code",
   "execution_count": 10,
   "id": "63d4a53c",
   "metadata": {
    "execution": {
     "iopub.execute_input": "2025-02-04T13:56:30.350899Z",
     "iopub.status.busy": "2025-02-04T13:56:30.350444Z",
     "iopub.status.idle": "2025-02-04T13:56:30.839482Z",
     "shell.execute_reply": "2025-02-04T13:56:30.838164Z"
    },
    "papermill": {
     "duration": 0.506688,
     "end_time": "2025-02-04T13:56:30.841576",
     "exception": false,
     "start_time": "2025-02-04T13:56:30.334888",
     "status": "completed"
    },
    "tags": []
   },
   "outputs": [
    {
     "data": {
      "text/plain": [
       "<Axes: >"
      ]
     },
     "execution_count": 10,
     "metadata": {},
     "output_type": "execute_result"
    },
    {
     "data": {
      "image/png": "[encoded data removed]",
      "text/plain": [
       "<Figure size 640x480 with 2 Axes>"
      ]
     },
     "metadata": {},
     "output_type": "display_data"
    }
   ],
   "source": [
    "sns.heatmap(df[numeric_cols].corr())"
   ]
  },
  {
   "cell_type": "markdown",
   "id": "e5f57f56",
   "metadata": {
    "papermill": {
     "duration": 0.015799,
     "end_time": "2025-02-04T13:56:30.874037",
     "exception": false,
     "start_time": "2025-02-04T13:56:30.858238",
     "status": "completed"
    },
    "tags": []
   },
   "source": [
    "A heatmap shows the correlation coefficients between numerical features.\n",
    "Key Observations:\n",
    "* Age and Exited show a positive correlation (~0.28). This suggests older customers are more likely to churn.\n",
    "* Balance also has some correlation with Exited (~0.12), while EstimatedSalary shows almost no correlation."
   ]
  },
  {
   "cell_type": "code",
   "execution_count": 11,
   "id": "2d8e587f",
   "metadata": {
    "execution": {
     "iopub.execute_input": "2025-02-04T13:56:30.915792Z",
     "iopub.status.busy": "2025-02-04T13:56:30.915402Z",
     "iopub.status.idle": "2025-02-04T13:56:30.935939Z",
     "shell.execute_reply": "2025-02-04T13:56:30.934578Z"
    },
    "papermill": {
     "duration": 0.046866,
     "end_time": "2025-02-04T13:56:30.938984",
     "exception": false,
     "start_time": "2025-02-04T13:56:30.892118",
     "status": "completed"
    },
    "tags": []
   },
   "outputs": [
    {
     "data": {
      "text/html": [
       "<div>\n",
       "<style scoped>\n",
       "    .dataframe tbody tr th:only-of-type {\n",
       "        vertical-align: middle;\n",
       "    }\n",
       "\n",
       "    .dataframe tbody tr th {\n",
       "        vertical-align: top;\n",
       "    }\n",
       "\n",
       "    .dataframe thead th {\n",
       "        text-align: right;\n",
       "    }\n",
       "</style>\n",
       "<table border=\"1\" class=\"dataframe\">\n",
       "  <thead>\n",
       "    <tr style=\"text-align: right;\">\n",
       "      <th></th>\n",
       "      <th>CreditScore</th>\n",
       "      <th>Age</th>\n",
       "      <th>Tenure</th>\n",
       "      <th>Balance</th>\n",
       "      <th>NumOfProducts</th>\n",
       "      <th>HasCrCard</th>\n",
       "      <th>IsActiveMember</th>\n",
       "      <th>EstimatedSalary</th>\n",
       "      <th>Exited</th>\n",
       "    </tr>\n",
       "  </thead>\n",
       "  <tbody>\n",
       "    <tr>\n",
       "      <th>CreditScore</th>\n",
       "      <td>1.000000</td>\n",
       "      <td>-0.003965</td>\n",
       "      <td>0.000842</td>\n",
       "      <td>0.006268</td>\n",
       "      <td>0.012238</td>\n",
       "      <td>-0.005458</td>\n",
       "      <td>0.025651</td>\n",
       "      <td>-0.001384</td>\n",
       "      <td>-0.027094</td>\n",
       "    </tr>\n",
       "    <tr>\n",
       "      <th>Age</th>\n",
       "      <td>-0.003965</td>\n",
       "      <td>1.000000</td>\n",
       "      <td>-0.009997</td>\n",
       "      <td>0.028308</td>\n",
       "      <td>-0.030680</td>\n",
       "      <td>-0.011721</td>\n",
       "      <td>0.085472</td>\n",
       "      <td>-0.007201</td>\n",
       "      <td>0.285323</td>\n",
       "    </tr>\n",
       "    <tr>\n",
       "      <th>Tenure</th>\n",
       "      <td>0.000842</td>\n",
       "      <td>-0.009997</td>\n",
       "      <td>1.000000</td>\n",
       "      <td>-0.012254</td>\n",
       "      <td>0.013444</td>\n",
       "      <td>0.022583</td>\n",
       "      <td>-0.028362</td>\n",
       "      <td>0.007784</td>\n",
       "      <td>-0.014001</td>\n",
       "    </tr>\n",
       "    <tr>\n",
       "      <th>Balance</th>\n",
       "      <td>0.006268</td>\n",
       "      <td>0.028308</td>\n",
       "      <td>-0.012254</td>\n",
       "      <td>1.000000</td>\n",
       "      <td>-0.304180</td>\n",
       "      <td>-0.014858</td>\n",
       "      <td>-0.010084</td>\n",
       "      <td>0.012797</td>\n",
       "      <td>0.118533</td>\n",
       "    </tr>\n",
       "    <tr>\n",
       "      <th>NumOfProducts</th>\n",
       "      <td>0.012238</td>\n",
       "      <td>-0.030680</td>\n",
       "      <td>0.013444</td>\n",
       "      <td>-0.304180</td>\n",
       "      <td>1.000000</td>\n",
       "      <td>0.003183</td>\n",
       "      <td>0.009612</td>\n",
       "      <td>0.014204</td>\n",
       "      <td>-0.047820</td>\n",
       "    </tr>\n",
       "    <tr>\n",
       "      <th>HasCrCard</th>\n",
       "      <td>-0.005458</td>\n",
       "      <td>-0.011721</td>\n",
       "      <td>0.022583</td>\n",
       "      <td>-0.014858</td>\n",
       "      <td>0.003183</td>\n",
       "      <td>1.000000</td>\n",
       "      <td>-0.011866</td>\n",
       "      <td>-0.009933</td>\n",
       "      <td>-0.007138</td>\n",
       "    </tr>\n",
       "    <tr>\n",
       "      <th>IsActiveMember</th>\n",
       "      <td>0.025651</td>\n",
       "      <td>0.085472</td>\n",
       "      <td>-0.028362</td>\n",
       "      <td>-0.010084</td>\n",
       "      <td>0.009612</td>\n",
       "      <td>-0.011866</td>\n",
       "      <td>1.000000</td>\n",
       "      <td>-0.011421</td>\n",
       "      <td>-0.156128</td>\n",
       "    </tr>\n",
       "    <tr>\n",
       "      <th>EstimatedSalary</th>\n",
       "      <td>-0.001384</td>\n",
       "      <td>-0.007201</td>\n",
       "      <td>0.007784</td>\n",
       "      <td>0.012797</td>\n",
       "      <td>0.014204</td>\n",
       "      <td>-0.009933</td>\n",
       "      <td>-0.011421</td>\n",
       "      <td>1.000000</td>\n",
       "      <td>0.012097</td>\n",
       "    </tr>\n",
       "    <tr>\n",
       "      <th>Exited</th>\n",
       "      <td>-0.027094</td>\n",
       "      <td>0.285323</td>\n",
       "      <td>-0.014001</td>\n",
       "      <td>0.118533</td>\n",
       "      <td>-0.047820</td>\n",
       "      <td>-0.007138</td>\n",
       "      <td>-0.156128</td>\n",
       "      <td>0.012097</td>\n",
       "      <td>1.000000</td>\n",
       "    </tr>\n",
       "  </tbody>\n",
       "</table>\n",
       "</div>"
      ],
      "text/plain": [
       "                 CreditScore       Age    Tenure   Balance  NumOfProducts  \\\n",
       "CreditScore         1.000000 -0.003965  0.000842  0.006268       0.012238   \n",
       "Age                -0.003965  1.000000 -0.009997  0.028308      -0.030680   \n",
       "Tenure              0.000842 -0.009997  1.000000 -0.012254       0.013444   \n",
       "Balance             0.006268  0.028308 -0.012254  1.000000      -0.304180   \n",
       "NumOfProducts       0.012238 -0.030680  0.013444 -0.304180       1.000000   \n",
       "HasCrCard          -0.005458 -0.011721  0.022583 -0.014858       0.003183   \n",
       "IsActiveMember      0.025651  0.085472 -0.028362 -0.010084       0.009612   \n",
       "EstimatedSalary    -0.001384 -0.007201  0.007784  0.012797       0.014204   \n",
       "Exited             -0.027094  0.285323 -0.014001  0.118533      -0.047820   \n",
       "\n",
       "                 HasCrCard  IsActiveMember  EstimatedSalary    Exited  \n",
       "CreditScore      -0.005458        0.025651        -0.001384 -0.027094  \n",
       "Age              -0.011721        0.085472        -0.007201  0.285323  \n",
       "Tenure            0.022583       -0.028362         0.007784 -0.014001  \n",
       "Balance          -0.014858       -0.010084         0.012797  0.118533  \n",
       "NumOfProducts     0.003183        0.009612         0.014204 -0.047820  \n",
       "HasCrCard         1.000000       -0.011866        -0.009933 -0.007138  \n",
       "IsActiveMember   -0.011866        1.000000        -0.011421 -0.156128  \n",
       "EstimatedSalary  -0.009933       -0.011421         1.000000  0.012097  \n",
       "Exited           -0.007138       -0.156128         0.012097  1.000000  "
      ]
     },
     "execution_count": 11,
     "metadata": {},
     "output_type": "execute_result"
    }
   ],
   "source": [
    "df[numeric_cols].corr()"
   ]
  },
  {
   "cell_type": "markdown",
   "id": "4a4c74cf",
   "metadata": {
    "papermill": {
     "duration": 0.016869,
     "end_time": "2025-02-04T13:56:30.977475",
     "exception": false,
     "start_time": "2025-02-04T13:56:30.960606",
     "status": "completed"
    },
    "tags": []
   },
   "source": [
    "Provides a tabular view of correlation coefficients for detailed interpretation."
   ]
  },
  {
   "cell_type": "code",
   "execution_count": 12,
   "id": "060784df",
   "metadata": {
    "execution": {
     "iopub.execute_input": "2025-02-04T13:56:31.012250Z",
     "iopub.status.busy": "2025-02-04T13:56:31.011712Z",
     "iopub.status.idle": "2025-02-04T13:56:31.054523Z",
     "shell.execute_reply": "2025-02-04T13:56:31.053274Z"
    },
    "papermill": {
     "duration": 0.062839,
     "end_time": "2025-02-04T13:56:31.056327",
     "exception": false,
     "start_time": "2025-02-04T13:56:30.993488",
     "status": "completed"
    },
    "tags": []
   },
   "outputs": [
    {
     "data": {
      "text/html": [
       "<div>\n",
       "<style scoped>\n",
       "    .dataframe tbody tr th:only-of-type {\n",
       "        vertical-align: middle;\n",
       "    }\n",
       "\n",
       "    .dataframe tbody tr th {\n",
       "        vertical-align: top;\n",
       "    }\n",
       "\n",
       "    .dataframe thead th {\n",
       "        text-align: right;\n",
       "    }\n",
       "</style>\n",
       "<table border=\"1\" class=\"dataframe\">\n",
       "  <thead>\n",
       "    <tr style=\"text-align: right;\">\n",
       "      <th></th>\n",
       "      <th>CreditScore</th>\n",
       "      <th>Age</th>\n",
       "      <th>Tenure</th>\n",
       "      <th>Balance</th>\n",
       "      <th>NumOfProducts</th>\n",
       "      <th>HasCrCard</th>\n",
       "      <th>IsActiveMember</th>\n",
       "      <th>EstimatedSalary</th>\n",
       "      <th>Exited</th>\n",
       "    </tr>\n",
       "  </thead>\n",
       "  <tbody>\n",
       "    <tr>\n",
       "      <th>count</th>\n",
       "      <td>10000.000000</td>\n",
       "      <td>10000.000000</td>\n",
       "      <td>10000.000000</td>\n",
       "      <td>10000.000000</td>\n",
       "      <td>10000.000000</td>\n",
       "      <td>10000.00000</td>\n",
       "      <td>10000.000000</td>\n",
       "      <td>10000.000000</td>\n",
       "      <td>10000.000000</td>\n",
       "    </tr>\n",
       "    <tr>\n",
       "      <th>mean</th>\n",
       "      <td>650.528800</td>\n",
       "      <td>38.921800</td>\n",
       "      <td>5.012800</td>\n",
       "      <td>76485.889288</td>\n",
       "      <td>1.530200</td>\n",
       "      <td>0.70550</td>\n",
       "      <td>0.515100</td>\n",
       "      <td>100090.239881</td>\n",
       "      <td>0.203700</td>\n",
       "    </tr>\n",
       "    <tr>\n",
       "      <th>std</th>\n",
       "      <td>96.653299</td>\n",
       "      <td>10.487806</td>\n",
       "      <td>2.892174</td>\n",
       "      <td>62397.405202</td>\n",
       "      <td>0.581654</td>\n",
       "      <td>0.45584</td>\n",
       "      <td>0.499797</td>\n",
       "      <td>57510.492818</td>\n",
       "      <td>0.402769</td>\n",
       "    </tr>\n",
       "    <tr>\n",
       "      <th>min</th>\n",
       "      <td>350.000000</td>\n",
       "      <td>18.000000</td>\n",
       "      <td>0.000000</td>\n",
       "      <td>0.000000</td>\n",
       "      <td>1.000000</td>\n",
       "      <td>0.00000</td>\n",
       "      <td>0.000000</td>\n",
       "      <td>11.580000</td>\n",
       "      <td>0.000000</td>\n",
       "    </tr>\n",
       "    <tr>\n",
       "      <th>25%</th>\n",
       "      <td>584.000000</td>\n",
       "      <td>32.000000</td>\n",
       "      <td>3.000000</td>\n",
       "      <td>0.000000</td>\n",
       "      <td>1.000000</td>\n",
       "      <td>0.00000</td>\n",
       "      <td>0.000000</td>\n",
       "      <td>51002.110000</td>\n",
       "      <td>0.000000</td>\n",
       "    </tr>\n",
       "    <tr>\n",
       "      <th>50%</th>\n",
       "      <td>652.000000</td>\n",
       "      <td>37.000000</td>\n",
       "      <td>5.000000</td>\n",
       "      <td>97198.540000</td>\n",
       "      <td>1.000000</td>\n",
       "      <td>1.00000</td>\n",
       "      <td>1.000000</td>\n",
       "      <td>100193.915000</td>\n",
       "      <td>0.000000</td>\n",
       "    </tr>\n",
       "    <tr>\n",
       "      <th>75%</th>\n",
       "      <td>718.000000</td>\n",
       "      <td>44.000000</td>\n",
       "      <td>7.000000</td>\n",
       "      <td>127644.240000</td>\n",
       "      <td>2.000000</td>\n",
       "      <td>1.00000</td>\n",
       "      <td>1.000000</td>\n",
       "      <td>149388.247500</td>\n",
       "      <td>0.000000</td>\n",
       "    </tr>\n",
       "    <tr>\n",
       "      <th>max</th>\n",
       "      <td>850.000000</td>\n",
       "      <td>92.000000</td>\n",
       "      <td>10.000000</td>\n",
       "      <td>250898.090000</td>\n",
       "      <td>4.000000</td>\n",
       "      <td>1.00000</td>\n",
       "      <td>1.000000</td>\n",
       "      <td>199992.480000</td>\n",
       "      <td>1.000000</td>\n",
       "    </tr>\n",
       "  </tbody>\n",
       "</table>\n",
       "</div>"
      ],
      "text/plain": [
       "        CreditScore           Age        Tenure        Balance  NumOfProducts  \\\n",
       "count  10000.000000  10000.000000  10000.000000   10000.000000   10000.000000   \n",
       "mean     650.528800     38.921800      5.012800   76485.889288       1.530200   \n",
       "std       96.653299     10.487806      2.892174   62397.405202       0.581654   \n",
       "min      350.000000     18.000000      0.000000       0.000000       1.000000   \n",
       "25%      584.000000     32.000000      3.000000       0.000000       1.000000   \n",
       "50%      652.000000     37.000000      5.000000   97198.540000       1.000000   \n",
       "75%      718.000000     44.000000      7.000000  127644.240000       2.000000   \n",
       "max      850.000000     92.000000     10.000000  250898.090000       4.000000   \n",
       "\n",
       "         HasCrCard  IsActiveMember  EstimatedSalary        Exited  \n",
       "count  10000.00000    10000.000000     10000.000000  10000.000000  \n",
       "mean       0.70550        0.515100    100090.239881      0.203700  \n",
       "std        0.45584        0.499797     57510.492818      0.402769  \n",
       "min        0.00000        0.000000        11.580000      0.000000  \n",
       "25%        0.00000        0.000000     51002.110000      0.000000  \n",
       "50%        1.00000        1.000000    100193.915000      0.000000  \n",
       "75%        1.00000        1.000000    149388.247500      0.000000  \n",
       "max        1.00000        1.000000    199992.480000      1.000000  "
      ]
     },
     "execution_count": 12,
     "metadata": {},
     "output_type": "execute_result"
    }
   ],
   "source": [
    "df[numeric_cols].describe()"
   ]
  },
  {
   "cell_type": "markdown",
   "id": "9a322686",
   "metadata": {
    "papermill": {
     "duration": 0.019726,
     "end_time": "2025-02-04T13:56:31.093377",
     "exception": false,
     "start_time": "2025-02-04T13:56:31.073651",
     "status": "completed"
    },
    "tags": []
   },
   "source": [
    "# 6. Working on Numerical Columns\n",
    "In this section, we analyze and preprocess the numerical features to ensure they are ready for model training. The goal is to address issues such as outliers, distribution, and feature importance for each column. Each step focuses on specific numerical features for targeted improvements.\n",
    "\n",
    "\n",
    "**6.1 Credit Score Analysis**"
   ]
  },
  {
   "cell_type": "code",
   "execution_count": 13,
   "id": "fcd87aec",
   "metadata": {
    "execution": {
     "iopub.execute_input": "2025-02-04T13:56:31.140339Z",
     "iopub.status.busy": "2025-02-04T13:56:31.139928Z",
     "iopub.status.idle": "2025-02-04T13:56:31.571649Z",
     "shell.execute_reply": "2025-02-04T13:56:31.570280Z"
    },
    "papermill": {
     "duration": 0.456104,
     "end_time": "2025-02-04T13:56:31.574057",
     "exception": false,
     "start_time": "2025-02-04T13:56:31.117953",
     "status": "completed"
    },
    "tags": []
   },
   "outputs": [
    {
     "name": "stderr",
     "output_type": "stream",
     "text": [
      "/usr/local/lib/python3.10/dist-packages/seaborn/_oldcore.py:1119: FutureWarning: use_inf_as_na option is deprecated and will be removed in a future version. Convert inf values to NaN before operating instead.\n",
      "  with pd.option_context('mode.use_inf_as_na', True):\n"
     ]
    },
    {
     "data": {
      "text/plain": [
       "<Axes: xlabel='CreditScore', ylabel='Count'>"
      ]
     },
     "execution_count": 13,
     "metadata": {},
     "output_type": "execute_result"
    },
    {
     "data": {
      "image/png": "[encoded data removed]",
      "text/plain": [
       "<Figure size 640x480 with 1 Axes>"
      ]
     },
     "metadata": {},
     "output_type": "display_data"
    }
   ],
   "source": [
    "sns.histplot(df['CreditScore'], kde=True)"
   ]
  },
  {
   "cell_type": "code",
   "execution_count": 14,
   "id": "42003aa6",
   "metadata": {
    "execution": {
     "iopub.execute_input": "2025-02-04T13:56:31.616290Z",
     "iopub.status.busy": "2025-02-04T13:56:31.615766Z",
     "iopub.status.idle": "2025-02-04T13:56:31.753535Z",
     "shell.execute_reply": "2025-02-04T13:56:31.752271Z"
    },
    "papermill": {
     "duration": 0.158716,
     "end_time": "2025-02-04T13:56:31.755856",
     "exception": false,
     "start_time": "2025-02-04T13:56:31.597140",
     "status": "completed"
    },
    "tags": []
   },
   "outputs": [
    {
     "data": {
      "text/plain": [
       "<Axes: xlabel='CreditScore'>"
      ]
     },
     "execution_count": 14,
     "metadata": {},
     "output_type": "execute_result"
    },
    {
     "data": {
      "image/png": "[encoded data removed]",
      "text/plain": [
       "<Figure size 640x480 with 1 Axes>"
      ]
     },
     "metadata": {},
     "output_type": "display_data"
    }
   ],
   "source": [
    "sns.boxplot(x=df['CreditScore'])"
   ]
  },
  {
   "cell_type": "code",
   "execution_count": 15,
   "id": "96568c59",
   "metadata": {
    "execution": {
     "iopub.execute_input": "2025-02-04T13:56:31.801222Z",
     "iopub.status.busy": "2025-02-04T13:56:31.800708Z",
     "iopub.status.idle": "2025-02-04T13:56:31.808608Z",
     "shell.execute_reply": "2025-02-04T13:56:31.807441Z"
    },
    "papermill": {
     "duration": 0.030305,
     "end_time": "2025-02-04T13:56:31.810488",
     "exception": false,
     "start_time": "2025-02-04T13:56:31.780183",
     "status": "completed"
    },
    "tags": []
   },
   "outputs": [
    {
     "data": {
      "text/plain": [
       "-0.07160660820092679"
      ]
     },
     "execution_count": 15,
     "metadata": {},
     "output_type": "execute_result"
    }
   ],
   "source": [
    "df['CreditScore'].skew()"
   ]
  },
  {
   "cell_type": "code",
   "execution_count": 16,
   "id": "77132325",
   "metadata": {
    "execution": {
     "iopub.execute_input": "2025-02-04T13:56:31.854852Z",
     "iopub.status.busy": "2025-02-04T13:56:31.854372Z",
     "iopub.status.idle": "2025-02-04T13:56:32.286151Z",
     "shell.execute_reply": "2025-02-04T13:56:32.284729Z"
    },
    "papermill": {
     "duration": 0.452503,
     "end_time": "2025-02-04T13:56:32.287985",
     "exception": false,
     "start_time": "2025-02-04T13:56:31.835482",
     "status": "completed"
    },
    "tags": []
   },
   "outputs": [
    {
     "name": "stderr",
     "output_type": "stream",
     "text": [
      "/usr/local/lib/python3.10/dist-packages/seaborn/_oldcore.py:1119: FutureWarning: use_inf_as_na option is deprecated and will be removed in a future version. Convert inf values to NaN before operating instead.\n",
      "  with pd.option_context('mode.use_inf_as_na', True):\n",
      "/usr/local/lib/python3.10/dist-packages/seaborn/_oldcore.py:1075: FutureWarning: When grouping with a length-1 list-like, you will need to pass a length-1 tuple to get_group in a future version of pandas. Pass `(name,)` instead of `name` to silence this warning.\n",
      "  data_subset = grouped_data.get_group(pd_key)\n",
      "/usr/local/lib/python3.10/dist-packages/seaborn/_oldcore.py:1075: FutureWarning: When grouping with a length-1 list-like, you will need to pass a length-1 tuple to get_group in a future version of pandas. Pass `(name,)` instead of `name` to silence this warning.\n",
      "  data_subset = grouped_data.get_group(pd_key)\n",
      "/usr/local/lib/python3.10/dist-packages/seaborn/_oldcore.py:1075: FutureWarning: When grouping with a length-1 list-like, you will need to pass a length-1 tuple to get_group in a future version of pandas. Pass `(name,)` instead of `name` to silence this warning.\n",
      "  data_subset = grouped_data.get_group(pd_key)\n"
     ]
    },
    {
     "data": {
      "image/png": "[encoded data removed]",
      "text/plain": [
       "<Figure size 640x480 with 1 Axes>"
      ]
     },
     "metadata": {},
     "output_type": "display_data"
    }
   ],
   "source": [
    "sns.histplot(data=df, x='CreditScore', hue='Exited', palette='Set1', kde=False)\n",
    "\n",
    "plt.title('Distribution of Credit Scores by Churn Status')\n",
    "plt.xlabel('CreditScore')\n",
    "plt.ylabel('Frequency')\n",
    "plt.show()"
   ]
  },
  {
   "cell_type": "markdown",
   "id": "48d8c869",
   "metadata": {
    "papermill": {
     "duration": 0.080267,
     "end_time": "2025-02-04T13:56:32.388625",
     "exception": false,
     "start_time": "2025-02-04T13:56:32.308358",
     "status": "completed"
    },
    "tags": []
   },
   "source": [
    "*** Notes(Credit Score)******\n",
    "* **Distribution**: The distribution of credit scores is slightly left-skewed, as shown by the histogram and skewness value.\n",
    "* **Outliers**: Boxplot reveals a few low-end outliers, which might require handling during preprocessing.\n",
    "* **Churn Insight**: The histogram shows that customers with lower credit scores are more likely to churn, as evident from the Exited hue distinction."
   ]
  },
  {
   "cell_type": "markdown",
   "id": "f8b89682",
   "metadata": {
    "papermill": {
     "duration": 0.017962,
     "end_time": "2025-02-04T13:56:32.424956",
     "exception": false,
     "start_time": "2025-02-04T13:56:32.406994",
     "status": "completed"
    },
    "tags": []
   },
   "source": [
    "**6.2 Age Analysis**"
   ]
  },
  {
   "cell_type": "code",
   "execution_count": 17,
   "id": "bf55c44d",
   "metadata": {
    "execution": {
     "iopub.execute_input": "2025-02-04T13:56:32.463269Z",
     "iopub.status.busy": "2025-02-04T13:56:32.462866Z",
     "iopub.status.idle": "2025-02-04T13:56:32.842018Z",
     "shell.execute_reply": "2025-02-04T13:56:32.840868Z"
    },
    "papermill": {
     "duration": 0.400455,
     "end_time": "2025-02-04T13:56:32.843936",
     "exception": false,
     "start_time": "2025-02-04T13:56:32.443481",
     "status": "completed"
    },
    "tags": []
   },
   "outputs": [
    {
     "name": "stderr",
     "output_type": "stream",
     "text": [
      "/usr/local/lib/python3.10/dist-packages/seaborn/_oldcore.py:1119: FutureWarning: use_inf_as_na option is deprecated and will be removed in a future version. Convert inf values to NaN before operating instead.\n",
      "  with pd.option_context('mode.use_inf_as_na', True):\n"
     ]
    },
    {
     "data": {
      "text/plain": [
       "<Axes: xlabel='Age', ylabel='Count'>"
      ]
     },
     "execution_count": 17,
     "metadata": {},
     "output_type": "execute_result"
    },
    {
     "data": {
      "image/png": "[encoded data removed]",
      "text/plain": [
       "<Figure size 640x480 with 1 Axes>"
      ]
     },
     "metadata": {},
     "output_type": "display_data"
    }
   ],
   "source": [
    "sns.histplot(df['Age'], kde=True)"
   ]
  },
  {
   "cell_type": "code",
   "execution_count": 18,
   "id": "e8fc1872",
   "metadata": {
    "execution": {
     "iopub.execute_input": "2025-02-04T13:56:32.883888Z",
     "iopub.status.busy": "2025-02-04T13:56:32.883504Z",
     "iopub.status.idle": "2025-02-04T13:56:33.033668Z",
     "shell.execute_reply": "2025-02-04T13:56:33.032413Z"
    },
    "papermill": {
     "duration": 0.172546,
     "end_time": "2025-02-04T13:56:33.035676",
     "exception": false,
     "start_time": "2025-02-04T13:56:32.863130",
     "status": "completed"
    },
    "tags": []
   },
   "outputs": [
    {
     "data": {
      "text/plain": [
       "<Axes: xlabel='Age'>"
      ]
     },
     "execution_count": 18,
     "metadata": {},
     "output_type": "execute_result"
    },
    {
     "data": {
      "image/png": "[encoded data removed]",
      "text/plain": [
       "<Figure size 640x480 with 1 Axes>"
      ]
     },
     "metadata": {},
     "output_type": "display_data"
    }
   ],
   "source": [
    "sns.boxplot(x=df['Age'])"
   ]
  },
  {
   "cell_type": "code",
   "execution_count": 19,
   "id": "bdaf1c31",
   "metadata": {
    "execution": {
     "iopub.execute_input": "2025-02-04T13:56:33.078241Z",
     "iopub.status.busy": "2025-02-04T13:56:33.077795Z",
     "iopub.status.idle": "2025-02-04T13:56:33.572633Z",
     "shell.execute_reply": "2025-02-04T13:56:33.571327Z"
    },
    "papermill": {
     "duration": 0.519503,
     "end_time": "2025-02-04T13:56:33.574905",
     "exception": false,
     "start_time": "2025-02-04T13:56:33.055402",
     "status": "completed"
    },
    "tags": []
   },
   "outputs": [
    {
     "name": "stderr",
     "output_type": "stream",
     "text": [
      "/usr/local/lib/python3.10/dist-packages/seaborn/_oldcore.py:1119: FutureWarning: use_inf_as_na option is deprecated and will be removed in a future version. Convert inf values to NaN before operating instead.\n",
      "  with pd.option_context('mode.use_inf_as_na', True):\n",
      "/usr/local/lib/python3.10/dist-packages/seaborn/_oldcore.py:1075: FutureWarning: When grouping with a length-1 list-like, you will need to pass a length-1 tuple to get_group in a future version of pandas. Pass `(name,)` instead of `name` to silence this warning.\n",
      "  data_subset = grouped_data.get_group(pd_key)\n",
      "/usr/local/lib/python3.10/dist-packages/seaborn/_oldcore.py:1075: FutureWarning: When grouping with a length-1 list-like, you will need to pass a length-1 tuple to get_group in a future version of pandas. Pass `(name,)` instead of `name` to silence this warning.\n",
      "  data_subset = grouped_data.get_group(pd_key)\n",
      "/usr/local/lib/python3.10/dist-packages/seaborn/_oldcore.py:1075: FutureWarning: When grouping with a length-1 list-like, you will need to pass a length-1 tuple to get_group in a future version of pandas. Pass `(name,)` instead of `name` to silence this warning.\n",
      "  data_subset = grouped_data.get_group(pd_key)\n"
     ]
    },
    {
     "data": {
      "image/png": "[encoded data removed]",
      "text/plain": [
       "<Figure size 640x480 with 1 Axes>"
      ]
     },
     "metadata": {},
     "output_type": "display_data"
    }
   ],
   "source": [
    "sns.histplot(data=df, x='Age', hue='Exited', palette='Set1', kde=False)\n",
    "\n",
    "plt.title('Distribution of Age by Churn Status')\n",
    "plt.xlabel('Age')\n",
    "plt.ylabel('Frequency')\n",
    "plt.show()"
   ]
  },
  {
   "cell_type": "code",
   "execution_count": 20,
   "id": "329a8105",
   "metadata": {
    "execution": {
     "iopub.execute_input": "2025-02-04T13:56:33.618156Z",
     "iopub.status.busy": "2025-02-04T13:56:33.617755Z",
     "iopub.status.idle": "2025-02-04T13:56:33.625901Z",
     "shell.execute_reply": "2025-02-04T13:56:33.624740Z"
    },
    "papermill": {
     "duration": 0.032198,
     "end_time": "2025-02-04T13:56:33.627919",
     "exception": false,
     "start_time": "2025-02-04T13:56:33.595721",
     "status": "completed"
    },
    "tags": []
   },
   "outputs": [
    {
     "data": {
      "text/plain": [
       "1.0113202630234552"
      ]
     },
     "execution_count": 20,
     "metadata": {},
     "output_type": "execute_result"
    }
   ],
   "source": [
    "df['Age'].skew()"
   ]
  },
  {
   "cell_type": "markdown",
   "id": "a74a65f1",
   "metadata": {
    "papermill": {
     "duration": 0.020546,
     "end_time": "2025-02-04T13:56:33.668675",
     "exception": false,
     "start_time": "2025-02-04T13:56:33.648129",
     "status": "completed"
    },
    "tags": []
   },
   "source": [
    "* **Distribution**: The age distribution is right-skewed, as indicated by the histogram and skewness value.\n",
    "* **Outliers**: Boxplot reveals potential high-end outliers, particularly older customers. These might need further investigation.\n",
    "* **Churn Insight**: The histogram with the Exited hue indicates that older customers are more likely to churn, as their frequency in the churn category is noticeably higher."
   ]
  },
  {
   "cell_type": "markdown",
   "id": "2a75a089",
   "metadata": {
    "papermill": {
     "duration": 0.020192,
     "end_time": "2025-02-04T13:56:33.709660",
     "exception": false,
     "start_time": "2025-02-04T13:56:33.689468",
     "status": "completed"
    },
    "tags": []
   },
   "source": [
    "**6.3 Tenure Analysis**"
   ]
  },
  {
   "cell_type": "code",
   "execution_count": 21,
   "id": "0f7498fc",
   "metadata": {
    "execution": {
     "iopub.execute_input": "2025-02-04T13:56:33.751374Z",
     "iopub.status.busy": "2025-02-04T13:56:33.750911Z",
     "iopub.status.idle": "2025-02-04T13:56:33.782948Z",
     "shell.execute_reply": "2025-02-04T13:56:33.781774Z"
    },
    "papermill": {
     "duration": 0.055429,
     "end_time": "2025-02-04T13:56:33.785009",
     "exception": false,
     "start_time": "2025-02-04T13:56:33.729580",
     "status": "completed"
    },
    "tags": []
   },
   "outputs": [
    {
     "data": {
      "text/html": [
       "<div>\n",
       "<style scoped>\n",
       "    .dataframe tbody tr th:only-of-type {\n",
       "        vertical-align: middle;\n",
       "    }\n",
       "\n",
       "    .dataframe tbody tr th {\n",
       "        vertical-align: top;\n",
       "    }\n",
       "\n",
       "    .dataframe thead th {\n",
       "        text-align: right;\n",
       "    }\n",
       "</style>\n",
       "<table border=\"1\" class=\"dataframe\">\n",
       "  <thead>\n",
       "    <tr style=\"text-align: right;\">\n",
       "      <th>Exited</th>\n",
       "      <th>0</th>\n",
       "      <th>1</th>\n",
       "    </tr>\n",
       "    <tr>\n",
       "      <th>Tenure</th>\n",
       "      <th></th>\n",
       "      <th></th>\n",
       "    </tr>\n",
       "  </thead>\n",
       "  <tbody>\n",
       "    <tr>\n",
       "      <th>0</th>\n",
       "      <td>76.997579</td>\n",
       "      <td>23.002421</td>\n",
       "    </tr>\n",
       "    <tr>\n",
       "      <th>1</th>\n",
       "      <td>77.584541</td>\n",
       "      <td>22.415459</td>\n",
       "    </tr>\n",
       "    <tr>\n",
       "      <th>2</th>\n",
       "      <td>80.820611</td>\n",
       "      <td>19.179389</td>\n",
       "    </tr>\n",
       "    <tr>\n",
       "      <th>3</th>\n",
       "      <td>78.889990</td>\n",
       "      <td>21.110010</td>\n",
       "    </tr>\n",
       "    <tr>\n",
       "      <th>4</th>\n",
       "      <td>79.474216</td>\n",
       "      <td>20.525784</td>\n",
       "    </tr>\n",
       "    <tr>\n",
       "      <th>5</th>\n",
       "      <td>79.347826</td>\n",
       "      <td>20.652174</td>\n",
       "    </tr>\n",
       "    <tr>\n",
       "      <th>6</th>\n",
       "      <td>79.731127</td>\n",
       "      <td>20.268873</td>\n",
       "    </tr>\n",
       "    <tr>\n",
       "      <th>7</th>\n",
       "      <td>82.782101</td>\n",
       "      <td>17.217899</td>\n",
       "    </tr>\n",
       "    <tr>\n",
       "      <th>8</th>\n",
       "      <td>80.780488</td>\n",
       "      <td>19.219512</td>\n",
       "    </tr>\n",
       "    <tr>\n",
       "      <th>9</th>\n",
       "      <td>78.353659</td>\n",
       "      <td>21.646341</td>\n",
       "    </tr>\n",
       "    <tr>\n",
       "      <th>10</th>\n",
       "      <td>79.387755</td>\n",
       "      <td>20.612245</td>\n",
       "    </tr>\n",
       "  </tbody>\n",
       "</table>\n",
       "</div>"
      ],
      "text/plain": [
       "Exited          0          1\n",
       "Tenure                      \n",
       "0       76.997579  23.002421\n",
       "1       77.584541  22.415459\n",
       "2       80.820611  19.179389\n",
       "3       78.889990  21.110010\n",
       "4       79.474216  20.525784\n",
       "5       79.347826  20.652174\n",
       "6       79.731127  20.268873\n",
       "7       82.782101  17.217899\n",
       "8       80.780488  19.219512\n",
       "9       78.353659  21.646341\n",
       "10      79.387755  20.612245"
      ]
     },
     "execution_count": 21,
     "metadata": {},
     "output_type": "execute_result"
    }
   ],
   "source": [
    "pd.crosstab(df['Tenure'], df['Exited'], normalize='index') * 100"
   ]
  },
  {
   "cell_type": "code",
   "execution_count": 22,
   "id": "541f898d",
   "metadata": {
    "execution": {
     "iopub.execute_input": "2025-02-04T13:56:33.828302Z",
     "iopub.status.busy": "2025-02-04T13:56:33.827868Z",
     "iopub.status.idle": "2025-02-04T13:56:34.196034Z",
     "shell.execute_reply": "2025-02-04T13:56:34.194865Z"
    },
    "papermill": {
     "duration": 0.392013,
     "end_time": "2025-02-04T13:56:34.198072",
     "exception": false,
     "start_time": "2025-02-04T13:56:33.806059",
     "status": "completed"
    },
    "tags": []
   },
   "outputs": [
    {
     "name": "stderr",
     "output_type": "stream",
     "text": [
      "/usr/local/lib/python3.10/dist-packages/seaborn/_oldcore.py:1119: FutureWarning: use_inf_as_na option is deprecated and will be removed in a future version. Convert inf values to NaN before operating instead.\n",
      "  with pd.option_context('mode.use_inf_as_na', True):\n",
      "/usr/local/lib/python3.10/dist-packages/seaborn/_oldcore.py:1075: FutureWarning: When grouping with a length-1 list-like, you will need to pass a length-1 tuple to get_group in a future version of pandas. Pass `(name,)` instead of `name` to silence this warning.\n",
      "  data_subset = grouped_data.get_group(pd_key)\n",
      "/usr/local/lib/python3.10/dist-packages/seaborn/_oldcore.py:1075: FutureWarning: When grouping with a length-1 list-like, you will need to pass a length-1 tuple to get_group in a future version of pandas. Pass `(name,)` instead of `name` to silence this warning.\n",
      "  data_subset = grouped_data.get_group(pd_key)\n",
      "/usr/local/lib/python3.10/dist-packages/seaborn/_oldcore.py:1075: FutureWarning: When grouping with a length-1 list-like, you will need to pass a length-1 tuple to get_group in a future version of pandas. Pass `(name,)` instead of `name` to silence this warning.\n",
      "  data_subset = grouped_data.get_group(pd_key)\n"
     ]
    },
    {
     "data": {
      "image/png": "[encoded data removed]",
      "text/plain": [
       "<Figure size 640x480 with 1 Axes>"
      ]
     },
     "metadata": {},
     "output_type": "display_data"
    }
   ],
   "source": [
    "sns.histplot(data=df, x='Tenure', hue='Exited', palette='Set1', kde=False)\n",
    "\n",
    "plt.title('Distribution of Tenure by Churn Status')\n",
    "plt.xlabel('Tenure')\n",
    "plt.ylabel('Frequency')\n",
    "plt.show()"
   ]
  },
  {
   "cell_type": "markdown",
   "id": "48a84803",
   "metadata": {
    "papermill": {
     "duration": 0.020983,
     "end_time": "2025-02-04T13:56:34.241029",
     "exception": false,
     "start_time": "2025-02-04T13:56:34.220046",
     "status": "completed"
    },
    "tags": []
   },
   "source": [
    "* **Distribution**: The histogram shows the distribution of tenure across customers. Tenure is more evenly spread compared to other numerical features.\n",
    "* **Churn Insight**: The crosstab analysis (normalized by index) reveals that customers with shorter tenure (1–3 years) have a higher churn rate, while customers with longer tenure tend to stay.\n",
    "* **Visualization Insight**: The histogram with the Exited hue visually confirms this trend, with a noticeable concentration of churn in the lower tenure range."
   ]
  },
  {
   "cell_type": "markdown",
   "id": "66b14e64",
   "metadata": {
    "papermill": {
     "duration": 0.022227,
     "end_time": "2025-02-04T13:56:34.284163",
     "exception": false,
     "start_time": "2025-02-04T13:56:34.261936",
     "status": "completed"
    },
    "tags": []
   },
   "source": [
    "**6.4 Balance Analysis**"
   ]
  },
  {
   "cell_type": "code",
   "execution_count": 23,
   "id": "075529ea",
   "metadata": {
    "execution": {
     "iopub.execute_input": "2025-02-04T13:56:34.328456Z",
     "iopub.status.busy": "2025-02-04T13:56:34.328018Z",
     "iopub.status.idle": "2025-02-04T13:56:34.336086Z",
     "shell.execute_reply": "2025-02-04T13:56:34.334796Z"
    },
    "papermill": {
     "duration": 0.032408,
     "end_time": "2025-02-04T13:56:34.338040",
     "exception": false,
     "start_time": "2025-02-04T13:56:34.305632",
     "status": "completed"
    },
    "tags": []
   },
   "outputs": [
    {
     "data": {
      "text/plain": [
       "-0.14110871094154379"
      ]
     },
     "execution_count": 23,
     "metadata": {},
     "output_type": "execute_result"
    }
   ],
   "source": [
    "df['Balance'].skew()"
   ]
  },
  {
   "cell_type": "code",
   "execution_count": 24,
   "id": "302e6084",
   "metadata": {
    "execution": {
     "iopub.execute_input": "2025-02-04T13:56:34.384212Z",
     "iopub.status.busy": "2025-02-04T13:56:34.383806Z",
     "iopub.status.idle": "2025-02-04T13:56:34.515702Z",
     "shell.execute_reply": "2025-02-04T13:56:34.514573Z"
    },
    "papermill": {
     "duration": 0.156995,
     "end_time": "2025-02-04T13:56:34.517762",
     "exception": false,
     "start_time": "2025-02-04T13:56:34.360767",
     "status": "completed"
    },
    "tags": []
   },
   "outputs": [
    {
     "data": {
      "text/plain": [
       "<Axes: xlabel='Balance'>"
      ]
     },
     "execution_count": 24,
     "metadata": {},
     "output_type": "execute_result"
    },
    {
     "data": {
      "image/png": "[encoded data removed]",
      "text/plain": [
       "<Figure size 640x480 with 1 Axes>"
      ]
     },
     "metadata": {},
     "output_type": "display_data"
    }
   ],
   "source": [
    "sns.boxplot(x=df['Balance'])"
   ]
  },
  {
   "cell_type": "code",
   "execution_count": 25,
   "id": "17e796b6",
   "metadata": {
    "execution": {
     "iopub.execute_input": "2025-02-04T13:56:34.565830Z",
     "iopub.status.busy": "2025-02-04T13:56:34.565410Z",
     "iopub.status.idle": "2025-02-04T13:56:34.889127Z",
     "shell.execute_reply": "2025-02-04T13:56:34.887862Z"
    },
    "papermill": {
     "duration": 0.349593,
     "end_time": "2025-02-04T13:56:34.891214",
     "exception": false,
     "start_time": "2025-02-04T13:56:34.541621",
     "status": "completed"
    },
    "tags": []
   },
   "outputs": [
    {
     "name": "stderr",
     "output_type": "stream",
     "text": [
      "/usr/local/lib/python3.10/dist-packages/seaborn/_oldcore.py:1119: FutureWarning: use_inf_as_na option is deprecated and will be removed in a future version. Convert inf values to NaN before operating instead.\n",
      "  with pd.option_context('mode.use_inf_as_na', True):\n",
      "/usr/local/lib/python3.10/dist-packages/seaborn/_oldcore.py:1075: FutureWarning: When grouping with a length-1 list-like, you will need to pass a length-1 tuple to get_group in a future version of pandas. Pass `(name,)` instead of `name` to silence this warning.\n",
      "  data_subset = grouped_data.get_group(pd_key)\n",
      "/usr/local/lib/python3.10/dist-packages/seaborn/_oldcore.py:1075: FutureWarning: When grouping with a length-1 list-like, you will need to pass a length-1 tuple to get_group in a future version of pandas. Pass `(name,)` instead of `name` to silence this warning.\n",
      "  data_subset = grouped_data.get_group(pd_key)\n"
     ]
    },
    {
     "data": {
      "image/png": "[encoded data removed]",
      "text/plain": [
       "<Figure size 640x480 with 1 Axes>"
      ]
     },
     "metadata": {},
     "output_type": "display_data"
    }
   ],
   "source": [
    "sns.histplot(data=df, x='Balance', hue='Exited', palette='Set1', kde=False)\n",
    "\n",
    "plt.title('Distribution of Balance by Churn Status')\n",
    "plt.xlabel('Balance')\n",
    "plt.ylabel('Frequency')\n",
    "plt.show()"
   ]
  },
  {
   "cell_type": "markdown",
   "id": "4212a7b4",
   "metadata": {
    "papermill": {
     "duration": 0.022474,
     "end_time": "2025-02-04T13:56:34.938310",
     "exception": false,
     "start_time": "2025-02-04T13:56:34.915836",
     "status": "completed"
    },
    "tags": []
   },
   "source": [
    "* **Distribution**: Balance distribution is right-skewed, meaning more customers have lower balances.\n",
    "* **Outliers**: The boxplot indicates the presence of some extreme values, which might need handling.\n",
    "* **Churn Insight**: The histogram suggests that customers with zero balance are less likely to churn, while those with mid-range balances have a higher churn rate."
   ]
  },
  {
   "cell_type": "markdown",
   "id": "49eee2be",
   "metadata": {
    "papermill": {
     "duration": 0.022451,
     "end_time": "2025-02-04T13:56:34.985124",
     "exception": false,
     "start_time": "2025-02-04T13:56:34.962673",
     "status": "completed"
    },
    "tags": []
   },
   "source": [
    "**6.5 Number of Products Analysis**"
   ]
  },
  {
   "cell_type": "code",
   "execution_count": 26,
   "id": "f6d542a8",
   "metadata": {
    "execution": {
     "iopub.execute_input": "2025-02-04T13:56:35.032562Z",
     "iopub.status.busy": "2025-02-04T13:56:35.032133Z",
     "iopub.status.idle": "2025-02-04T13:56:35.039000Z",
     "shell.execute_reply": "2025-02-04T13:56:35.037891Z"
    },
    "papermill": {
     "duration": 0.032677,
     "end_time": "2025-02-04T13:56:35.040781",
     "exception": false,
     "start_time": "2025-02-04T13:56:35.008104",
     "status": "completed"
    },
    "tags": []
   },
   "outputs": [
    {
     "data": {
      "text/plain": [
       "array([1, 3, 2, 4])"
      ]
     },
     "execution_count": 26,
     "metadata": {},
     "output_type": "execute_result"
    }
   ],
   "source": [
    "df['NumOfProducts'].unique()"
   ]
  },
  {
   "cell_type": "code",
   "execution_count": 27,
   "id": "4cf47470",
   "metadata": {
    "execution": {
     "iopub.execute_input": "2025-02-04T13:56:35.090081Z",
     "iopub.status.busy": "2025-02-04T13:56:35.089677Z",
     "iopub.status.idle": "2025-02-04T13:56:35.100444Z",
     "shell.execute_reply": "2025-02-04T13:56:35.099159Z"
    },
    "papermill": {
     "duration": 0.038199,
     "end_time": "2025-02-04T13:56:35.102625",
     "exception": false,
     "start_time": "2025-02-04T13:56:35.064426",
     "status": "completed"
    },
    "tags": []
   },
   "outputs": [
    {
     "data": {
      "text/plain": [
       "NumOfProducts\n",
       "1    5084\n",
       "2    4590\n",
       "3     266\n",
       "4      60\n",
       "Name: count, dtype: int64"
      ]
     },
     "execution_count": 27,
     "metadata": {},
     "output_type": "execute_result"
    }
   ],
   "source": [
    "df['NumOfProducts'].value_counts()"
   ]
  },
  {
   "cell_type": "code",
   "execution_count": 28,
   "id": "212e3909",
   "metadata": {
    "execution": {
     "iopub.execute_input": "2025-02-04T13:56:35.149616Z",
     "iopub.status.busy": "2025-02-04T13:56:35.149149Z",
     "iopub.status.idle": "2025-02-04T13:56:35.157898Z",
     "shell.execute_reply": "2025-02-04T13:56:35.156557Z"
    },
    "papermill": {
     "duration": 0.034705,
     "end_time": "2025-02-04T13:56:35.160018",
     "exception": false,
     "start_time": "2025-02-04T13:56:35.125313",
     "status": "completed"
    },
    "tags": []
   },
   "outputs": [
    {
     "data": {
      "text/plain": [
       "NumOfProducts\n",
       "1    50.84\n",
       "2    45.90\n",
       "3     2.66\n",
       "4     0.60\n",
       "Name: proportion, dtype: float64"
      ]
     },
     "execution_count": 28,
     "metadata": {},
     "output_type": "execute_result"
    }
   ],
   "source": [
    "df['NumOfProducts'].value_counts(normalize=True) * 100"
   ]
  },
  {
   "cell_type": "code",
   "execution_count": 29,
   "id": "44f8ab9a",
   "metadata": {
    "execution": {
     "iopub.execute_input": "2025-02-04T13:56:35.207663Z",
     "iopub.status.busy": "2025-02-04T13:56:35.207272Z",
     "iopub.status.idle": "2025-02-04T13:56:35.227053Z",
     "shell.execute_reply": "2025-02-04T13:56:35.225751Z"
    },
    "papermill": {
     "duration": 0.046185,
     "end_time": "2025-02-04T13:56:35.228995",
     "exception": false,
     "start_time": "2025-02-04T13:56:35.182810",
     "status": "completed"
    },
    "tags": []
   },
   "outputs": [
    {
     "data": {
      "text/html": [
       "<div>\n",
       "<style scoped>\n",
       "    .dataframe tbody tr th:only-of-type {\n",
       "        vertical-align: middle;\n",
       "    }\n",
       "\n",
       "    .dataframe tbody tr th {\n",
       "        vertical-align: top;\n",
       "    }\n",
       "\n",
       "    .dataframe thead th {\n",
       "        text-align: right;\n",
       "    }\n",
       "</style>\n",
       "<table border=\"1\" class=\"dataframe\">\n",
       "  <thead>\n",
       "    <tr style=\"text-align: right;\">\n",
       "      <th>Exited</th>\n",
       "      <th>0</th>\n",
       "      <th>1</th>\n",
       "    </tr>\n",
       "    <tr>\n",
       "      <th>NumOfProducts</th>\n",
       "      <th></th>\n",
       "      <th></th>\n",
       "    </tr>\n",
       "  </thead>\n",
       "  <tbody>\n",
       "    <tr>\n",
       "      <th>1</th>\n",
       "      <td>72.285602</td>\n",
       "      <td>27.714398</td>\n",
       "    </tr>\n",
       "    <tr>\n",
       "      <th>2</th>\n",
       "      <td>92.418301</td>\n",
       "      <td>7.581699</td>\n",
       "    </tr>\n",
       "    <tr>\n",
       "      <th>3</th>\n",
       "      <td>17.293233</td>\n",
       "      <td>82.706767</td>\n",
       "    </tr>\n",
       "    <tr>\n",
       "      <th>4</th>\n",
       "      <td>0.000000</td>\n",
       "      <td>100.000000</td>\n",
       "    </tr>\n",
       "  </tbody>\n",
       "</table>\n",
       "</div>"
      ],
      "text/plain": [
       "Exited                 0           1\n",
       "NumOfProducts                       \n",
       "1              72.285602   27.714398\n",
       "2              92.418301    7.581699\n",
       "3              17.293233   82.706767\n",
       "4               0.000000  100.000000"
      ]
     },
     "execution_count": 29,
     "metadata": {},
     "output_type": "execute_result"
    }
   ],
   "source": [
    "pd.crosstab(df['NumOfProducts'], df['Exited'], normalize='index') * 100"
   ]
  },
  {
   "cell_type": "code",
   "execution_count": 30,
   "id": "d2132f1c",
   "metadata": {
    "execution": {
     "iopub.execute_input": "2025-02-04T13:56:35.278196Z",
     "iopub.status.busy": "2025-02-04T13:56:35.277794Z",
     "iopub.status.idle": "2025-02-04T13:56:35.664797Z",
     "shell.execute_reply": "2025-02-04T13:56:35.663603Z"
    },
    "papermill": {
     "duration": 0.414141,
     "end_time": "2025-02-04T13:56:35.666860",
     "exception": false,
     "start_time": "2025-02-04T13:56:35.252719",
     "status": "completed"
    },
    "tags": []
   },
   "outputs": [
    {
     "name": "stderr",
     "output_type": "stream",
     "text": [
      "/usr/local/lib/python3.10/dist-packages/seaborn/_oldcore.py:1119: FutureWarning: use_inf_as_na option is deprecated and will be removed in a future version. Convert inf values to NaN before operating instead.\n",
      "  with pd.option_context('mode.use_inf_as_na', True):\n",
      "/usr/local/lib/python3.10/dist-packages/seaborn/_oldcore.py:1075: FutureWarning: When grouping with a length-1 list-like, you will need to pass a length-1 tuple to get_group in a future version of pandas. Pass `(name,)` instead of `name` to silence this warning.\n",
      "  data_subset = grouped_data.get_group(pd_key)\n",
      "/usr/local/lib/python3.10/dist-packages/seaborn/_oldcore.py:1075: FutureWarning: When grouping with a length-1 list-like, you will need to pass a length-1 tuple to get_group in a future version of pandas. Pass `(name,)` instead of `name` to silence this warning.\n",
      "  data_subset = grouped_data.get_group(pd_key)\n",
      "/usr/local/lib/python3.10/dist-packages/seaborn/_oldcore.py:1075: FutureWarning: When grouping with a length-1 list-like, you will need to pass a length-1 tuple to get_group in a future version of pandas. Pass `(name,)` instead of `name` to silence this warning.\n",
      "  data_subset = grouped_data.get_group(pd_key)\n"
     ]
    },
    {
     "data": {
      "image/png": "[encoded data removed]",
      "text/plain": [
       "<Figure size 640x480 with 1 Axes>"
      ]
     },
     "metadata": {},
     "output_type": "display_data"
    }
   ],
   "source": [
    "sns.histplot(data=df, x='NumOfProducts', hue='Exited', palette='Set1', kde=False)\n",
    "\n",
    "plt.title('Distribution of Number of Products by Churn Status')\n",
    "plt.xlabel('NumOfProducts')\n",
    "plt.ylabel('Frequency')\n",
    "plt.show()"
   ]
  },
  {
   "cell_type": "markdown",
   "id": "86723df2",
   "metadata": {
    "papermill": {
     "duration": 0.025732,
     "end_time": "2025-02-04T13:56:35.717292",
     "exception": false,
     "start_time": "2025-02-04T13:56:35.691560",
     "status": "completed"
    },
    "tags": []
   },
   "source": [
    "* **Unique Values**: Customers have between 1 and 4 products.\n",
    "* **Distribution**: Most customers have 1 or 2 products, with very few having 3 or 4.\n",
    "* **Churn Insight**: The crosstab and histogram reveal that customers with 3 or more products have a significantly higher churn rate, while those with 1 product are relatively stable."
   ]
  },
  {
   "cell_type": "markdown",
   "id": "656b3f1e",
   "metadata": {
    "papermill": {
     "duration": 0.023442,
     "end_time": "2025-02-04T13:56:35.765723",
     "exception": false,
     "start_time": "2025-02-04T13:56:35.742281",
     "status": "completed"
    },
    "tags": []
   },
   "source": [
    "**6.6 Credit Card Analysis**"
   ]
  },
  {
   "cell_type": "code",
   "execution_count": 31,
   "id": "ccc16673",
   "metadata": {
    "execution": {
     "iopub.execute_input": "2025-02-04T13:56:35.814233Z",
     "iopub.status.busy": "2025-02-04T13:56:35.813835Z",
     "iopub.status.idle": "2025-02-04T13:56:35.822270Z",
     "shell.execute_reply": "2025-02-04T13:56:35.821092Z"
    },
    "papermill": {
     "duration": 0.034964,
     "end_time": "2025-02-04T13:56:35.824238",
     "exception": false,
     "start_time": "2025-02-04T13:56:35.789274",
     "status": "completed"
    },
    "tags": []
   },
   "outputs": [
    {
     "data": {
      "text/plain": [
       "HasCrCard\n",
       "1    70.55\n",
       "0    29.45\n",
       "Name: proportion, dtype: float64"
      ]
     },
     "execution_count": 31,
     "metadata": {},
     "output_type": "execute_result"
    }
   ],
   "source": [
    "df['HasCrCard'].value_counts(normalize=True) * 100"
   ]
  },
  {
   "cell_type": "code",
   "execution_count": 32,
   "id": "57c427e2",
   "metadata": {
    "execution": {
     "iopub.execute_input": "2025-02-04T13:56:35.874186Z",
     "iopub.status.busy": "2025-02-04T13:56:35.873764Z",
     "iopub.status.idle": "2025-02-04T13:56:35.891815Z",
     "shell.execute_reply": "2025-02-04T13:56:35.890615Z"
    },
    "papermill": {
     "duration": 0.044729,
     "end_time": "2025-02-04T13:56:35.893496",
     "exception": false,
     "start_time": "2025-02-04T13:56:35.848767",
     "status": "completed"
    },
    "tags": []
   },
   "outputs": [
    {
     "data": {
      "text/html": [
       "<div>\n",
       "<style scoped>\n",
       "    .dataframe tbody tr th:only-of-type {\n",
       "        vertical-align: middle;\n",
       "    }\n",
       "\n",
       "    .dataframe tbody tr th {\n",
       "        vertical-align: top;\n",
       "    }\n",
       "\n",
       "    .dataframe thead th {\n",
       "        text-align: right;\n",
       "    }\n",
       "</style>\n",
       "<table border=\"1\" class=\"dataframe\">\n",
       "  <thead>\n",
       "    <tr style=\"text-align: right;\">\n",
       "      <th>Exited</th>\n",
       "      <th>0</th>\n",
       "      <th>1</th>\n",
       "    </tr>\n",
       "    <tr>\n",
       "      <th>HasCrCard</th>\n",
       "      <th></th>\n",
       "      <th></th>\n",
       "    </tr>\n",
       "  </thead>\n",
       "  <tbody>\n",
       "    <tr>\n",
       "      <th>0</th>\n",
       "      <td>79.185059</td>\n",
       "      <td>20.814941</td>\n",
       "    </tr>\n",
       "    <tr>\n",
       "      <th>1</th>\n",
       "      <td>79.815734</td>\n",
       "      <td>20.184266</td>\n",
       "    </tr>\n",
       "  </tbody>\n",
       "</table>\n",
       "</div>"
      ],
      "text/plain": [
       "Exited             0          1\n",
       "HasCrCard                      \n",
       "0          79.185059  20.814941\n",
       "1          79.815734  20.184266"
      ]
     },
     "execution_count": 32,
     "metadata": {},
     "output_type": "execute_result"
    }
   ],
   "source": [
    "pd.crosstab(df['HasCrCard'], df['Exited'], normalize='index') * 100"
   ]
  },
  {
   "cell_type": "markdown",
   "id": "690006ae",
   "metadata": {
    "papermill": {
     "duration": 0.023377,
     "end_time": "2025-02-04T13:56:35.942276",
     "exception": false,
     "start_time": "2025-02-04T13:56:35.918899",
     "status": "completed"
    },
    "tags": []
   },
   "source": [
    "**Distribution**: Around 70% of customers own a credit card.\n",
    "**Churn Insight**: The crosstab shows that credit card ownership does not significantly impact churn, suggesting this feature may not be highly predictive."
   ]
  },
  {
   "cell_type": "markdown",
   "id": "12ee5449",
   "metadata": {
    "papermill": {
     "duration": 0.023202,
     "end_time": "2025-02-04T13:56:35.989883",
     "exception": false,
     "start_time": "2025-02-04T13:56:35.966681",
     "status": "completed"
    },
    "tags": []
   },
   "source": [
    "**6.7 Active Membership Analysis**"
   ]
  },
  {
   "cell_type": "code",
   "execution_count": 33,
   "id": "c2f14ce8",
   "metadata": {
    "execution": {
     "iopub.execute_input": "2025-02-04T13:56:36.039088Z",
     "iopub.status.busy": "2025-02-04T13:56:36.038673Z",
     "iopub.status.idle": "2025-02-04T13:56:36.046950Z",
     "shell.execute_reply": "2025-02-04T13:56:36.045856Z"
    },
    "papermill": {
     "duration": 0.035349,
     "end_time": "2025-02-04T13:56:36.048818",
     "exception": false,
     "start_time": "2025-02-04T13:56:36.013469",
     "status": "completed"
    },
    "tags": []
   },
   "outputs": [
    {
     "data": {
      "text/plain": [
       "IsActiveMember\n",
       "1    51.51\n",
       "0    48.49\n",
       "Name: proportion, dtype: float64"
      ]
     },
     "execution_count": 33,
     "metadata": {},
     "output_type": "execute_result"
    }
   ],
   "source": [
    "df['IsActiveMember'].value_counts(normalize=True) * 100"
   ]
  },
  {
   "cell_type": "code",
   "execution_count": 34,
   "id": "2e65aaf7",
   "metadata": {
    "execution": {
     "iopub.execute_input": "2025-02-04T13:56:36.097389Z",
     "iopub.status.busy": "2025-02-04T13:56:36.096978Z",
     "iopub.status.idle": "2025-02-04T13:56:36.115116Z",
     "shell.execute_reply": "2025-02-04T13:56:36.113916Z"
    },
    "papermill": {
     "duration": 0.044586,
     "end_time": "2025-02-04T13:56:36.117143",
     "exception": false,
     "start_time": "2025-02-04T13:56:36.072557",
     "status": "completed"
    },
    "tags": []
   },
   "outputs": [
    {
     "data": {
      "text/html": [
       "<div>\n",
       "<style scoped>\n",
       "    .dataframe tbody tr th:only-of-type {\n",
       "        vertical-align: middle;\n",
       "    }\n",
       "\n",
       "    .dataframe tbody tr th {\n",
       "        vertical-align: top;\n",
       "    }\n",
       "\n",
       "    .dataframe thead th {\n",
       "        text-align: right;\n",
       "    }\n",
       "</style>\n",
       "<table border=\"1\" class=\"dataframe\">\n",
       "  <thead>\n",
       "    <tr style=\"text-align: right;\">\n",
       "      <th>Exited</th>\n",
       "      <th>0</th>\n",
       "      <th>1</th>\n",
       "    </tr>\n",
       "    <tr>\n",
       "      <th>IsActiveMember</th>\n",
       "      <th></th>\n",
       "      <th></th>\n",
       "    </tr>\n",
       "  </thead>\n",
       "  <tbody>\n",
       "    <tr>\n",
       "      <th>0</th>\n",
       "      <td>73.149103</td>\n",
       "      <td>26.850897</td>\n",
       "    </tr>\n",
       "    <tr>\n",
       "      <th>1</th>\n",
       "      <td>85.730926</td>\n",
       "      <td>14.269074</td>\n",
       "    </tr>\n",
       "  </tbody>\n",
       "</table>\n",
       "</div>"
      ],
      "text/plain": [
       "Exited                  0          1\n",
       "IsActiveMember                      \n",
       "0               73.149103  26.850897\n",
       "1               85.730926  14.269074"
      ]
     },
     "execution_count": 34,
     "metadata": {},
     "output_type": "execute_result"
    }
   ],
   "source": [
    "pd.crosstab(df['IsActiveMember'], df['Exited'], normalize='index') * 100"
   ]
  },
  {
   "cell_type": "markdown",
   "id": "6fe2e4ad",
   "metadata": {
    "papermill": {
     "duration": 0.023963,
     "end_time": "2025-02-04T13:56:36.165458",
     "exception": false,
     "start_time": "2025-02-04T13:56:36.141495",
     "status": "completed"
    },
    "tags": []
   },
   "source": [
    "**Distribution**: Around 51% of customers are active members.\n",
    "**Churn Insight**: Active members are less likely to churn, while inactive members show a higher churn percentage, making this a strong predictor."
   ]
  },
  {
   "cell_type": "markdown",
   "id": "147250a0",
   "metadata": {
    "papermill": {
     "duration": 0.023424,
     "end_time": "2025-02-04T13:56:36.212642",
     "exception": false,
     "start_time": "2025-02-04T13:56:36.189218",
     "status": "completed"
    },
    "tags": []
   },
   "source": [
    "**6.8 Estimated Salary Analysis**\n"
   ]
  },
  {
   "cell_type": "code",
   "execution_count": 35,
   "id": "04fabf81",
   "metadata": {
    "execution": {
     "iopub.execute_input": "2025-02-04T13:56:36.263460Z",
     "iopub.status.busy": "2025-02-04T13:56:36.263005Z",
     "iopub.status.idle": "2025-02-04T13:56:36.270422Z",
     "shell.execute_reply": "2025-02-04T13:56:36.269219Z"
    },
    "papermill": {
     "duration": 0.035486,
     "end_time": "2025-02-04T13:56:36.272319",
     "exception": false,
     "start_time": "2025-02-04T13:56:36.236833",
     "status": "completed"
    },
    "tags": []
   },
   "outputs": [
    {
     "data": {
      "text/plain": [
       "0.002085357661558514"
      ]
     },
     "execution_count": 35,
     "metadata": {},
     "output_type": "execute_result"
    }
   ],
   "source": [
    "df['EstimatedSalary'].skew()"
   ]
  },
  {
   "cell_type": "code",
   "execution_count": 36,
   "id": "5a42a6b6",
   "metadata": {
    "execution": {
     "iopub.execute_input": "2025-02-04T13:56:36.322064Z",
     "iopub.status.busy": "2025-02-04T13:56:36.321727Z",
     "iopub.status.idle": "2025-02-04T13:56:36.480848Z",
     "shell.execute_reply": "2025-02-04T13:56:36.479697Z"
    },
    "papermill": {
     "duration": 0.186067,
     "end_time": "2025-02-04T13:56:36.482754",
     "exception": false,
     "start_time": "2025-02-04T13:56:36.296687",
     "status": "completed"
    },
    "tags": []
   },
   "outputs": [
    {
     "data": {
      "text/plain": [
       "<Axes: xlabel='EstimatedSalary'>"
      ]
     },
     "execution_count": 36,
     "metadata": {},
     "output_type": "execute_result"
    },
    {
     "data": {
      "image/png": "[encoded data removed]",
      "text/plain": [
       "<Figure size 640x480 with 1 Axes>"
      ]
     },
     "metadata": {},
     "output_type": "display_data"
    }
   ],
   "source": [
    "sns.boxplot(x=df['EstimatedSalary'])"
   ]
  },
  {
   "cell_type": "code",
   "execution_count": 37,
   "id": "e9909868",
   "metadata": {
    "execution": {
     "iopub.execute_input": "2025-02-04T13:56:36.533951Z",
     "iopub.status.busy": "2025-02-04T13:56:36.533582Z",
     "iopub.status.idle": "2025-02-04T13:56:37.087351Z",
     "shell.execute_reply": "2025-02-04T13:56:37.086091Z"
    },
    "papermill": {
     "duration": 0.581953,
     "end_time": "2025-02-04T13:56:37.089053",
     "exception": false,
     "start_time": "2025-02-04T13:56:36.507100",
     "status": "completed"
    },
    "tags": []
   },
   "outputs": [
    {
     "name": "stderr",
     "output_type": "stream",
     "text": [
      "/usr/local/lib/python3.10/dist-packages/seaborn/_oldcore.py:1119: FutureWarning: use_inf_as_na option is deprecated and will be removed in a future version. Convert inf values to NaN before operating instead.\n",
      "  with pd.option_context('mode.use_inf_as_na', True):\n",
      "/usr/local/lib/python3.10/dist-packages/seaborn/_oldcore.py:1075: FutureWarning: When grouping with a length-1 list-like, you will need to pass a length-1 tuple to get_group in a future version of pandas. Pass `(name,)` instead of `name` to silence this warning.\n",
      "  data_subset = grouped_data.get_group(pd_key)\n",
      "/usr/local/lib/python3.10/dist-packages/seaborn/_oldcore.py:1075: FutureWarning: When grouping with a length-1 list-like, you will need to pass a length-1 tuple to get_group in a future version of pandas. Pass `(name,)` instead of `name` to silence this warning.\n",
      "  data_subset = grouped_data.get_group(pd_key)\n"
     ]
    },
    {
     "data": {
      "image/png": "[encoded data removed]",
      "text/plain": [
       "<Figure size 640x480 with 1 Axes>"
      ]
     },
     "metadata": {},
     "output_type": "display_data"
    }
   ],
   "source": [
    "sns.histplot(data=df, x='EstimatedSalary', hue='Exited', palette='Set1', kde=True)\n",
    "\n",
    "plt.title('Distribution of Estimated Salary by Churn Status')\n",
    "plt.xlabel('EstimatedSalary')\n",
    "plt.ylabel('Frequency')\n",
    "plt.show()"
   ]
  },
  {
   "cell_type": "markdown",
   "id": "75365f4a",
   "metadata": {
    "papermill": {
     "duration": 0.025336,
     "end_time": "2025-02-04T13:56:37.140728",
     "exception": false,
     "start_time": "2025-02-04T13:56:37.115392",
     "status": "completed"
    },
    "tags": []
   },
   "source": [
    "* **Distribution**: The salary distribution is fairly uniform with little skewness.\n",
    "* **Outliers**: No significant outliers detected.\n",
    "* **Churn Insight**: The histogram shows no clear relationship between salary and churn, suggesting limited predictive power."
   ]
  },
  {
   "cell_type": "markdown",
   "id": "74a9fe9c",
   "metadata": {
    "papermill": {
     "duration": 0.025395,
     "end_time": "2025-02-04T13:56:37.191763",
     "exception": false,
     "start_time": "2025-02-04T13:56:37.166368",
     "status": "completed"
    },
    "tags": []
   },
   "source": [
    "# 7. Working on Categorical Columns\n",
    "In this section, we analyze the categorical features to understand their distribution and impact on churn.\n",
    "\n",
    "**7.1 Geography Analysis**"
   ]
  },
  {
   "cell_type": "code",
   "execution_count": 38,
   "id": "72f436c1",
   "metadata": {
    "execution": {
     "iopub.execute_input": "2025-02-04T13:56:37.249316Z",
     "iopub.status.busy": "2025-02-04T13:56:37.248891Z",
     "iopub.status.idle": "2025-02-04T13:56:37.419406Z",
     "shell.execute_reply": "2025-02-04T13:56:37.418278Z"
    },
    "papermill": {
     "duration": 0.20322,
     "end_time": "2025-02-04T13:56:37.421443",
     "exception": false,
     "start_time": "2025-02-04T13:56:37.218223",
     "status": "completed"
    },
    "tags": []
   },
   "outputs": [
    {
     "data": {
      "text/plain": [
       "<Axes: ylabel='count'>"
      ]
     },
     "execution_count": 38,
     "metadata": {},
     "output_type": "execute_result"
    },
    {
     "data": {
      "image/png": "[encoded data removed]",
      "text/plain": [
       "<Figure size 640x480 with 1 Axes>"
      ]
     },
     "metadata": {},
     "output_type": "display_data"
    }
   ],
   "source": [
    "df['Geography'].value_counts().plot(kind='pie')"
   ]
  },
  {
   "cell_type": "code",
   "execution_count": 39,
   "id": "4808948a",
   "metadata": {
    "execution": {
     "iopub.execute_input": "2025-02-04T13:56:37.476786Z",
     "iopub.status.busy": "2025-02-04T13:56:37.476377Z",
     "iopub.status.idle": "2025-02-04T13:56:37.495885Z",
     "shell.execute_reply": "2025-02-04T13:56:37.494760Z"
    },
    "papermill": {
     "duration": 0.049154,
     "end_time": "2025-02-04T13:56:37.497685",
     "exception": false,
     "start_time": "2025-02-04T13:56:37.448531",
     "status": "completed"
    },
    "tags": []
   },
   "outputs": [
    {
     "data": {
      "text/html": [
       "<div>\n",
       "<style scoped>\n",
       "    .dataframe tbody tr th:only-of-type {\n",
       "        vertical-align: middle;\n",
       "    }\n",
       "\n",
       "    .dataframe tbody tr th {\n",
       "        vertical-align: top;\n",
       "    }\n",
       "\n",
       "    .dataframe thead th {\n",
       "        text-align: right;\n",
       "    }\n",
       "</style>\n",
       "<table border=\"1\" class=\"dataframe\">\n",
       "  <thead>\n",
       "    <tr style=\"text-align: right;\">\n",
       "      <th>Exited</th>\n",
       "      <th>0</th>\n",
       "      <th>1</th>\n",
       "    </tr>\n",
       "    <tr>\n",
       "      <th>Geography</th>\n",
       "      <th></th>\n",
       "      <th></th>\n",
       "    </tr>\n",
       "  </thead>\n",
       "  <tbody>\n",
       "    <tr>\n",
       "      <th>France</th>\n",
       "      <td>83.845233</td>\n",
       "      <td>16.154767</td>\n",
       "    </tr>\n",
       "    <tr>\n",
       "      <th>Germany</th>\n",
       "      <td>67.556796</td>\n",
       "      <td>32.443204</td>\n",
       "    </tr>\n",
       "    <tr>\n",
       "      <th>Spain</th>\n",
       "      <td>83.326605</td>\n",
       "      <td>16.673395</td>\n",
       "    </tr>\n",
       "  </tbody>\n",
       "</table>\n",
       "</div>"
      ],
      "text/plain": [
       "Exited             0          1\n",
       "Geography                      \n",
       "France     83.845233  16.154767\n",
       "Germany    67.556796  32.443204\n",
       "Spain      83.326605  16.673395"
      ]
     },
     "execution_count": 39,
     "metadata": {},
     "output_type": "execute_result"
    }
   ],
   "source": [
    "pd.crosstab(df['Geography'], df['Exited'], normalize='index') * 100"
   ]
  },
  {
   "cell_type": "markdown",
   "id": "85e6ec0c",
   "metadata": {
    "papermill": {
     "duration": 0.026795,
     "end_time": "2025-02-04T13:56:37.551287",
     "exception": false,
     "start_time": "2025-02-04T13:56:37.524492",
     "status": "completed"
    },
    "tags": []
   },
   "source": [
    "**Distribution**: The majority of customers are from France, followed by Germany and Spain.\n",
    "**Churn Insight**: The crosstab reveals that Germany has the highest churn rate, while France has the lowest. This suggests that customer behavior varies by location, making geography an important predictor."
   ]
  },
  {
   "cell_type": "markdown",
   "id": "d31a6d87",
   "metadata": {
    "papermill": {
     "duration": 0.02605,
     "end_time": "2025-02-04T13:56:37.604054",
     "exception": false,
     "start_time": "2025-02-04T13:56:37.578004",
     "status": "completed"
    },
    "tags": []
   },
   "source": [
    "**7.2 Gender Analysis**"
   ]
  },
  {
   "cell_type": "code",
   "execution_count": 40,
   "id": "089bd606",
   "metadata": {
    "execution": {
     "iopub.execute_input": "2025-02-04T13:56:37.658775Z",
     "iopub.status.busy": "2025-02-04T13:56:37.658309Z",
     "iopub.status.idle": "2025-02-04T13:56:37.785450Z",
     "shell.execute_reply": "2025-02-04T13:56:37.784255Z"
    },
    "papermill": {
     "duration": 0.15691,
     "end_time": "2025-02-04T13:56:37.787268",
     "exception": false,
     "start_time": "2025-02-04T13:56:37.630358",
     "status": "completed"
    },
    "tags": []
   },
   "outputs": [
    {
     "data": {
      "text/plain": [
       "<Axes: ylabel='count'>"
      ]
     },
     "execution_count": 40,
     "metadata": {},
     "output_type": "execute_result"
    },
    {
     "data": {
      "image/png": "[encoded data removed]",
      "text/plain": [
       "<Figure size 640x480 with 1 Axes>"
      ]
     },
     "metadata": {},
     "output_type": "display_data"
    }
   ],
   "source": [
    "df['Gender'].value_counts().plot(kind='pie', autopct='%1.1f%%', startangle=90, shadow=True)"
   ]
  },
  {
   "cell_type": "code",
   "execution_count": 41,
   "id": "2e279fc0",
   "metadata": {
    "execution": {
     "iopub.execute_input": "2025-02-04T13:56:37.842860Z",
     "iopub.status.busy": "2025-02-04T13:56:37.842493Z",
     "iopub.status.idle": "2025-02-04T13:56:37.860401Z",
     "shell.execute_reply": "2025-02-04T13:56:37.859139Z"
    },
    "papermill": {
     "duration": 0.048091,
     "end_time": "2025-02-04T13:56:37.862413",
     "exception": false,
     "start_time": "2025-02-04T13:56:37.814322",
     "status": "completed"
    },
    "tags": []
   },
   "outputs": [
    {
     "data": {
      "text/html": [
       "<div>\n",
       "<style scoped>\n",
       "    .dataframe tbody tr th:only-of-type {\n",
       "        vertical-align: middle;\n",
       "    }\n",
       "\n",
       "    .dataframe tbody tr th {\n",
       "        vertical-align: top;\n",
       "    }\n",
       "\n",
       "    .dataframe thead th {\n",
       "        text-align: right;\n",
       "    }\n",
       "</style>\n",
       "<table border=\"1\" class=\"dataframe\">\n",
       "  <thead>\n",
       "    <tr style=\"text-align: right;\">\n",
       "      <th>Gender</th>\n",
       "      <th>Female</th>\n",
       "      <th>Male</th>\n",
       "    </tr>\n",
       "    <tr>\n",
       "      <th>Exited</th>\n",
       "      <th></th>\n",
       "      <th></th>\n",
       "    </tr>\n",
       "  </thead>\n",
       "  <tbody>\n",
       "    <tr>\n",
       "      <th>0</th>\n",
       "      <td>42.747708</td>\n",
       "      <td>57.252292</td>\n",
       "    </tr>\n",
       "    <tr>\n",
       "      <th>1</th>\n",
       "      <td>55.915562</td>\n",
       "      <td>44.084438</td>\n",
       "    </tr>\n",
       "  </tbody>\n",
       "</table>\n",
       "</div>"
      ],
      "text/plain": [
       "Gender     Female       Male\n",
       "Exited                      \n",
       "0       42.747708  57.252292\n",
       "1       55.915562  44.084438"
      ]
     },
     "execution_count": 41,
     "metadata": {},
     "output_type": "execute_result"
    }
   ],
   "source": [
    "pd.crosstab(df['Exited'], df['Gender'], normalize='index') * 100"
   ]
  },
  {
   "cell_type": "markdown",
   "id": "e89de3a1",
   "metadata": {
    "papermill": {
     "duration": 0.027976,
     "end_time": "2025-02-04T13:56:37.917720",
     "exception": false,
     "start_time": "2025-02-04T13:56:37.889744",
     "status": "completed"
    },
    "tags": []
   },
   "source": [
    "**Distribution**: The dataset has slightly more male customers than female.\n",
    "**Churn Insight**: The crosstab shows that female customers have a higher churn rate compared to males. This suggests that gender may have some influence on churn behavior."
   ]
  },
  {
   "cell_type": "markdown",
   "id": "e3212424",
   "metadata": {
    "papermill": {
     "duration": 0.027373,
     "end_time": "2025-02-04T13:56:37.972246",
     "exception": false,
     "start_time": "2025-02-04T13:56:37.944873",
     "status": "completed"
    },
    "tags": []
   },
   "source": [
    "# 8. Data Preprocessing\n",
    "In this section, we prepare the dataset for model training by encoding categorical variables, scaling numerical features, and splitting the data into training and test sets.\n",
    "\n",
    "**8.1 Encoding Categorical Variables**"
   ]
  },
  {
   "cell_type": "code",
   "execution_count": 42,
   "id": "6aeba946",
   "metadata": {
    "execution": {
     "iopub.execute_input": "2025-02-04T13:56:38.029558Z",
     "iopub.status.busy": "2025-02-04T13:56:38.029116Z",
     "iopub.status.idle": "2025-02-04T13:56:38.038427Z",
     "shell.execute_reply": "2025-02-04T13:56:38.037346Z"
    },
    "papermill": {
     "duration": 0.040806,
     "end_time": "2025-02-04T13:56:38.040349",
     "exception": false,
     "start_time": "2025-02-04T13:56:37.999543",
     "status": "completed"
    },
    "tags": []
   },
   "outputs": [],
   "source": [
    "df = pd.get_dummies(df, columns=['Geography'], drop_first=False)"
   ]
  },
  {
   "cell_type": "code",
   "execution_count": 43,
   "id": "5e783380",
   "metadata": {
    "execution": {
     "iopub.execute_input": "2025-02-04T13:56:38.097864Z",
     "iopub.status.busy": "2025-02-04T13:56:38.097472Z",
     "iopub.status.idle": "2025-02-04T13:56:38.104760Z",
     "shell.execute_reply": "2025-02-04T13:56:38.103560Z"
    },
    "papermill": {
     "duration": 0.038119,
     "end_time": "2025-02-04T13:56:38.106817",
     "exception": false,
     "start_time": "2025-02-04T13:56:38.068698",
     "status": "completed"
    },
    "tags": []
   },
   "outputs": [],
   "source": [
    "df['Gender'] = df['Gender'].map({'Male': 0, 'Female': 1})"
   ]
  },
  {
   "cell_type": "markdown",
   "id": "02628935",
   "metadata": {
    "papermill": {
     "duration": 0.027403,
     "end_time": "2025-02-04T13:56:38.162311",
     "exception": false,
     "start_time": "2025-02-04T13:56:38.134908",
     "status": "completed"
    },
    "tags": []
   },
   "source": [
    "* Used one-hot encoding on the Geography column without dropping a category (drop_first=False), ensuring the model has all country information.\n",
    "* Mapped Gender to 0 for Male and 1 for Female to convert it into a numerical format."
   ]
  },
  {
   "cell_type": "markdown",
   "id": "c8431186",
   "metadata": {
    "papermill": {
     "duration": 0.027802,
     "end_time": "2025-02-04T13:56:38.217606",
     "exception": false,
     "start_time": "2025-02-04T13:56:38.189804",
     "status": "completed"
    },
    "tags": []
   },
   "source": [
    "**8.2 Feature Scaling**"
   ]
  },
  {
   "cell_type": "code",
   "execution_count": 44,
   "id": "2d26a70b",
   "metadata": {
    "execution": {
     "iopub.execute_input": "2025-02-04T13:56:38.274615Z",
     "iopub.status.busy": "2025-02-04T13:56:38.273997Z",
     "iopub.status.idle": "2025-02-04T13:56:38.485701Z",
     "shell.execute_reply": "2025-02-04T13:56:38.484320Z"
    },
    "papermill": {
     "duration": 0.242824,
     "end_time": "2025-02-04T13:56:38.488152",
     "exception": false,
     "start_time": "2025-02-04T13:56:38.245328",
     "status": "completed"
    },
    "tags": []
   },
   "outputs": [],
   "source": [
    "from sklearn.preprocessing import StandardScaler\n",
    "scaler = StandardScaler()\n",
    "numeric_cols = ['CreditScore', 'Age', 'Tenure', 'Balance', 'NumOfProducts', 'EstimatedSalary']\n",
    "df[numeric_cols] = scaler.fit_transform(df[numeric_cols])"
   ]
  },
  {
   "cell_type": "markdown",
   "id": "a556a370",
   "metadata": {
    "papermill": {
     "duration": 0.02794,
     "end_time": "2025-02-04T13:56:38.545880",
     "exception": false,
     "start_time": "2025-02-04T13:56:38.517940",
     "status": "completed"
    },
    "tags": []
   },
   "source": [
    "* Applied StandardScaler to scale numerical columns:   CreditScore, Age, Tenure, Balance, NumOfProducts, and EstimatedSalary.\n",
    "* Standardization ensures all features have a mean of 0 and standard deviation of 1, improving model performance."
   ]
  },
  {
   "cell_type": "markdown",
   "id": "c48dad3b",
   "metadata": {
    "papermill": {
     "duration": 0.028819,
     "end_time": "2025-02-04T13:56:38.602384",
     "exception": false,
     "start_time": "2025-02-04T13:56:38.573565",
     "status": "completed"
    },
    "tags": []
   },
   "source": [
    "**8.3 Splitting Data for Training and Testing**"
   ]
  },
  {
   "cell_type": "code",
   "execution_count": 45,
   "id": "f21024d7",
   "metadata": {
    "execution": {
     "iopub.execute_input": "2025-02-04T13:56:38.659418Z",
     "iopub.status.busy": "2025-02-04T13:56:38.658993Z",
     "iopub.status.idle": "2025-02-04T13:56:38.804271Z",
     "shell.execute_reply": "2025-02-04T13:56:38.802947Z"
    },
    "papermill": {
     "duration": 0.176228,
     "end_time": "2025-02-04T13:56:38.806457",
     "exception": false,
     "start_time": "2025-02-04T13:56:38.630229",
     "status": "completed"
    },
    "tags": []
   },
   "outputs": [],
   "source": [
    "from sklearn.model_selection import train_test_split\n",
    "X = df.drop('Exited', axis=1)\n",
    "y = df['Exited']\n",
    "X_train, X_test, y_train, y_test = train_test_split(X, y, test_size=0.2, random_state=42)"
   ]
  },
  {
   "cell_type": "markdown",
   "id": "7d18cd42",
   "metadata": {
    "papermill": {
     "duration": 0.0272,
     "end_time": "2025-02-04T13:56:38.864348",
     "exception": false,
     "start_time": "2025-02-04T13:56:38.837148",
     "status": "completed"
    },
    "tags": []
   },
   "source": [
    "* Separated features (X) from the target variable (y → Exited).\n",
    "* Used train-test split (80% train, 20% test) to evaluate the model on unseen data.\n",
    "* Set random_state=42 for reproducibility."
   ]
  },
  {
   "cell_type": "markdown",
   "id": "582a36f1",
   "metadata": {
    "papermill": {
     "duration": 0.028754,
     "end_time": "2025-02-04T13:56:38.920580",
     "exception": false,
     "start_time": "2025-02-04T13:56:38.891826",
     "status": "completed"
    },
    "tags": []
   },
   "source": [
    "# 9. Model Building & Evaluation\n",
    "In this section, we train multiple classification models and evaluate their performance to identify the best one for predicting customer churn.\n",
    "\n",
    "**9.1 Models Used**\n",
    "machine learning models to be used:\n",
    "\n",
    "* Logistic Regression\n",
    "* Decision Tree Classifier\n",
    "* Support Vector Classifier (SVC)\n",
    "* K-Nearest Neighbors (KNN)\n",
    "* Gradient Boosting Classifier"
   ]
  },
  {
   "cell_type": "code",
   "execution_count": 46,
   "id": "971f9413",
   "metadata": {
    "execution": {
     "iopub.execute_input": "2025-02-04T13:56:38.978327Z",
     "iopub.status.busy": "2025-02-04T13:56:38.977914Z",
     "iopub.status.idle": "2025-02-04T13:56:39.403728Z",
     "shell.execute_reply": "2025-02-04T13:56:39.402779Z"
    },
    "papermill": {
     "duration": 0.457018,
     "end_time": "2025-02-04T13:56:39.405583",
     "exception": false,
     "start_time": "2025-02-04T13:56:38.948565",
     "status": "completed"
    },
    "tags": []
   },
   "outputs": [],
   "source": [
    "from sklearn.linear_model import LogisticRegression\n",
    "from sklearn.tree import DecisionTreeClassifier\n",
    "from sklearn.svm import SVC\n",
    "from sklearn.neighbors import KNeighborsClassifier\n",
    "from sklearn.ensemble import GradientBoostingClassifier\n",
    "\n",
    "models = {\n",
    "    \"Logistic Regression\": LogisticRegression(),\n",
    "    \"Decision Tree\": DecisionTreeClassifier(),\n",
    "    \"Support Vector Classifier\": SVC(probability=True),\n",
    "    \"K-Nearest Neighbors\": KNeighborsClassifier(),\n",
    "    \"Gradient Boosting Classifier\": GradientBoostingClassifier(),\n",
    "}"
   ]
  },
  {
   "cell_type": "markdown",
   "id": "8db701bf",
   "metadata": {
    "papermill": {
     "duration": 0.027702,
     "end_time": "2025-02-04T13:56:39.460833",
     "exception": false,
     "start_time": "2025-02-04T13:56:39.433131",
     "status": "completed"
    },
    "tags": []
   },
   "source": [
    "Each model was fitted on the training data and evaluated using various metrics."
   ]
  },
  {
   "cell_type": "markdown",
   "id": "55db6c71",
   "metadata": {
    "papermill": {
     "duration": 0.027236,
     "end_time": "2025-02-04T13:56:39.515737",
     "exception": false,
     "start_time": "2025-02-04T13:56:39.488501",
     "status": "completed"
    },
    "tags": []
   },
   "source": [
    "**9.2 Evaluation Metrics**\n",
    "For each model, I will measure:\n",
    "\n",
    "* Accuracy: The percentage of correct predictions.\n",
    "* Classification Report: Precision, Recall, F1-score for both churned and non-churned customers.\n",
    "* Confusion Matrix: Breakdown of True Positives, True Negatives, False Positives, and False Negatives.\n",
    "* ROC AUC Score: Measures model discrimination between churned and non-churned customers."
   ]
  },
  {
   "cell_type": "code",
   "execution_count": 47,
   "id": "feb20f5d",
   "metadata": {
    "execution": {
     "iopub.execute_input": "2025-02-04T13:56:39.573729Z",
     "iopub.status.busy": "2025-02-04T13:56:39.573367Z",
     "iopub.status.idle": "2025-02-04T13:56:51.014087Z",
     "shell.execute_reply": "2025-02-04T13:56:51.012782Z"
    },
    "papermill": {
     "duration": 11.472022,
     "end_time": "2025-02-04T13:56:51.016054",
     "exception": false,
     "start_time": "2025-02-04T13:56:39.544032",
     "status": "completed"
    },
    "tags": []
   },
   "outputs": [
    {
     "name": "stdout",
     "output_type": "stream",
     "text": [
      "Logistic Regression Accuracy: 81.15%\n",
      "              precision    recall  f1-score   support\n",
      "\n",
      "           0       0.83      0.96      0.89      1607\n",
      "           1       0.56      0.20      0.30       393\n",
      "\n",
      "    accuracy                           0.81      2000\n",
      "   macro avg       0.69      0.58      0.59      2000\n",
      "weighted avg       0.78      0.81      0.77      2000\n",
      "\n",
      "Confusion Matrix:\n",
      " [[1544   63]\n",
      " [ 314   79]]\n",
      "ROC AUC Score: 0.7789394680714622\n",
      "---------------\n",
      "Decision Tree Accuracy: 77.90%\n",
      "              precision    recall  f1-score   support\n",
      "\n",
      "           0       0.88      0.85      0.86      1607\n",
      "           1       0.45      0.51      0.48       393\n",
      "\n",
      "    accuracy                           0.78      2000\n",
      "   macro avg       0.66      0.68      0.67      2000\n",
      "weighted avg       0.79      0.78      0.78      2000\n",
      "\n",
      "Confusion Matrix:\n",
      " [[1358  249]\n",
      " [ 193  200]]\n",
      "ROC AUC Score: 0.6769793730039222\n",
      "---------------\n",
      "Support Vector Classifier Accuracy: 86.05%\n",
      "              precision    recall  f1-score   support\n",
      "\n",
      "           0       0.87      0.97      0.92      1607\n",
      "           1       0.78      0.40      0.53       393\n",
      "\n",
      "    accuracy                           0.86      2000\n",
      "   macro avg       0.82      0.69      0.73      2000\n",
      "weighted avg       0.85      0.86      0.84      2000\n",
      "\n",
      "Confusion Matrix:\n",
      " [[1562   45]\n",
      " [ 234  159]]\n",
      "ROC AUC Score: 0.8343126683355739\n",
      "---------------\n",
      "K-Nearest Neighbors Accuracy: 84.55%\n",
      "              precision    recall  f1-score   support\n",
      "\n",
      "           0       0.88      0.94      0.91      1607\n",
      "           1       0.65      0.47      0.54       393\n",
      "\n",
      "    accuracy                           0.85      2000\n",
      "   macro avg       0.76      0.70      0.72      2000\n",
      "weighted avg       0.83      0.85      0.84      2000\n",
      "\n",
      "Confusion Matrix:\n",
      " [[1508   99]\n",
      " [ 210  183]]\n",
      "ROC AUC Score: 0.7857726454395606\n",
      "---------------\n",
      "Gradient Boosting Classifier Accuracy: 86.45%\n",
      "              precision    recall  f1-score   support\n",
      "\n",
      "           0       0.88      0.96      0.92      1607\n",
      "           1       0.74      0.48      0.58       393\n",
      "\n",
      "    accuracy                           0.86      2000\n",
      "   macro avg       0.81      0.72      0.75      2000\n",
      "weighted avg       0.85      0.86      0.85      2000\n",
      "\n",
      "Confusion Matrix:\n",
      " [[1542   65]\n",
      " [ 206  187]]\n",
      "ROC AUC Score: 0.871670696428317\n",
      "---------------\n"
     ]
    }
   ],
   "source": [
    "from sklearn.metrics import accuracy_score, classification_report, confusion_matrix, roc_auc_score\n",
    "for name, model in models.items():\n",
    "    model.fit(X_train, y_train)\n",
    "    y_pred = model.predict(X_test)\n",
    "    accuracy = accuracy_score(y_test, y_pred)\n",
    "    print(f\"{name} Accuracy: {accuracy * 100:.2f}%\")\n",
    "    print(classification_report(y_test, y_pred))\n",
    "    print(\"Confusion Matrix:\\n\", confusion_matrix(y_test, y_pred))\n",
    "    print(\"ROC AUC Score:\", roc_auc_score(y_test, model.predict_proba(X_test)[:, 1]))\n",
    "    print('-' * 15)"
   ]
  },
  {
   "cell_type": "code",
   "execution_count": 48,
   "id": "4f18e87c",
   "metadata": {
    "execution": {
     "iopub.execute_input": "2025-02-04T13:56:51.079567Z",
     "iopub.status.busy": "2025-02-04T13:56:51.079153Z",
     "iopub.status.idle": "2025-02-04T13:56:51.148486Z",
     "shell.execute_reply": "2025-02-04T13:56:51.146908Z"
    },
    "papermill": {
     "duration": 0.104074,
     "end_time": "2025-02-04T13:56:51.150949",
     "exception": false,
     "start_time": "2025-02-04T13:56:51.046875",
     "status": "completed"
    },
    "tags": []
   },
   "outputs": [
    {
     "name": "stdout",
     "output_type": "stream",
     "text": [
      "0.874\n",
      "              precision    recall  f1-score   support\n",
      "\n",
      "           0       0.88      0.97      0.92      6356\n",
      "           1       0.82      0.50      0.62      1644\n",
      "\n",
      "    accuracy                           0.87      8000\n",
      "   macro avg       0.85      0.74      0.77      8000\n",
      "weighted avg       0.87      0.87      0.86      8000\n",
      "\n",
      "Confusion Matrix:\n",
      " [[6171  185]\n",
      " [ 823  821]]\n"
     ]
    }
   ],
   "source": [
    "y_train_pred = model.predict(X_train)\n",
    "accuracy = accuracy_score(y_train, y_train_pred)\n",
    "print(accuracy)\n",
    "print(classification_report(y_train, y_train_pred))\n",
    "print(\"Confusion Matrix:\\n\", confusion_matrix(y_train, y_train_pred))"
   ]
  }
 ],
 "metadata": {
  "kaggle": {
   "accelerator": "none",
   "dataSources": [
    {
     "datasetId": 4649694,
     "sourceId": 8433834,
     "sourceType": "datasetVersion"
    }
   ],
   "dockerImageVersionId": 30839,
   "isGpuEnabled": false,
   "isInternetEnabled": true,
   "language": "python",
   "sourceType": "notebook"
  },
  "kernelspec": {
   "display_name": "Python 3",
   "language": "python",
   "name": "python3"
  },
  "language_info": {
   "codemirror_mode": {
    "name": "ipython",
    "version": 3
   },
   "file_extension": ".py",
   "mimetype": "text/x-python",
   "name": "python",
   "nbconvert_exporter": "python",
   "pygments_lexer": "ipython3",
   "version": "3.10.12"
  },
  "papermill": {
   "default_parameters": {},
   "duration": 29.906541,
   "end_time": "2025-02-04T13:56:52.205128",
   "environment_variables": {},
   "exception": null,
   "input_path": "__notebook__.ipynb",
   "output_path": "__notebook__.ipynb",
   "parameters": {},
   "start_time": "2025-02-04T13:56:22.298587",
   "version": "2.6.0"
  }
 },
 "nbformat": 4,
 "nbformat_minor": 5
}
